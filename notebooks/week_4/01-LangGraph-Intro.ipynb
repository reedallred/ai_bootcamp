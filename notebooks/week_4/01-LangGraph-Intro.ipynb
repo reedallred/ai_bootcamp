{
 "cells": [
  {
   "cell_type": "markdown",
   "id": "f03f60d8",
   "metadata": {},
   "source": [
    "### Import Dependencies"
   ]
  },
  {
   "cell_type": "code",
   "execution_count": null,
   "id": "ec2427ac",
   "metadata": {},
   "outputs": [],
   "source": [
    "from pydantic import BaseModel, Field\n",
    "\n",
    "from langgraph.graph import StateGraph, START, END\n",
    "from langgraph.prebuilt import ToolNode\n",
    "\n",
    "from langchain_core.messages import AIMessage, ToolMessage\n",
    "from langchain_core.messages import convert_to_openai_messages\n",
    "\n",
    "from jinja2 import Template\n",
    "from typing import Literal, Dict, Any, Annotated, List\n",
    "from IPython.display import Image, display\n",
    "from operator import add\n",
    "from openai import OpenAI\n",
    "\n",
    "import random\n",
    "import ast\n",
    "import inspect\n",
    "import instructor\n",
    "import json\n",
    "\n",
    "from utils.utils import get_tool_descriptions, format_ai_message"
   ]
  },
  {
   "cell_type": "markdown",
   "id": "dfb0ed80",
   "metadata": {},
   "source": [
    "### Single Node Graph"
   ]
  },
  {
   "cell_type": "code",
   "execution_count": null,
   "id": "f9525682",
   "metadata": {},
   "outputs": [],
   "source": [
    "class State(BaseModel):\n",
    "    message: str\n",
    "    answer: str = \"\"\n",
    "    vibe: str"
   ]
  },
  {
   "cell_type": "code",
   "execution_count": null,
   "id": "9d188e15",
   "metadata": {},
   "outputs": [],
   "source": [
    "def append_vibes_to_query(state: State) -> dict:\n",
    "\n",
    "    return {\n",
    "        \"answer\": f\"{state.message} {state.vibe}\"\n",
    "    }"
   ]
  },
  {
   "cell_type": "code",
   "execution_count": null,
   "id": "9883b3e6",
   "metadata": {},
   "outputs": [],
   "source": [
    "workflow = StateGraph(State)\n",
    "\n",
    "workflow.add_node(\"append_vibes_to_query\", append_vibes_to_query)\n",
    "\n",
    "workflow.add_edge(START, \"append_vibes_to_query\")\n",
    "workflow.add_edge(\"append_vibes_to_query\", END)\n",
    "\n",
    "graph = workflow.compile()"
   ]
  },
  {
   "cell_type": "code",
   "execution_count": null,
   "id": "db242b56",
   "metadata": {},
   "outputs": [],
   "source": [
    "display(Image(graph.get_graph().draw_mermaid_png()))"
   ]
  },
  {
   "cell_type": "code",
   "execution_count": null,
   "id": "25cc4c00",
   "metadata": {},
   "outputs": [],
   "source": [
    "initial_state = {\n",
    "    \"message\": \"Give me some vibes!\",\n",
    "    \"vibe\": \"I'm feeling like a badass today!\"\n",
    "}"
   ]
  },
  {
   "cell_type": "code",
   "execution_count": null,
   "id": "8aa5a53f",
   "metadata": {},
   "outputs": [],
   "source": [
    "result = graph.invoke(initial_state)"
   ]
  },
  {
   "cell_type": "code",
   "execution_count": null,
   "id": "433adea0",
   "metadata": {},
   "outputs": [],
   "source": [
    "result"
   ]
  },
  {
   "cell_type": "markdown",
   "id": "8b643186",
   "metadata": {},
   "source": [
    "### Conditional Graph"
   ]
  },
  {
   "cell_type": "code",
   "execution_count": null,
   "id": "a79c832b",
   "metadata": {},
   "outputs": [],
   "source": [
    "class State(BaseModel):\n",
    "    message: str\n",
    "    answer: str = \"\""
   ]
  },
  {
   "cell_type": "code",
   "execution_count": null,
   "id": "46717c77",
   "metadata": {},
   "outputs": [],
   "source": [
    "def append_vibes_to_query(state: State) -> dict:\n",
    "\n",
    "    return {\n",
    "        \"answer\": \"I am here to add some vibes:\"\n",
    "        }"
   ]
  },
  {
   "cell_type": "code",
   "execution_count": null,
   "id": "db74b86d",
   "metadata": {},
   "outputs": [],
   "source": [
    "def router(state: State) -> Literal[\"append_vibe_1\", \"append_vibe_2\", \"append_vibe_3\"]:\n",
    "\n",
    "    vibes = [\"append_vibe_1\", \"append_vibe_2\", \"append_vibe_3\"]\n",
    "\n",
    "    vibe_path = random.choice(vibes)\n",
    "\n",
    "    return vibe_path"
   ]
  },
  {
   "cell_type": "code",
   "execution_count": null,
   "id": "2a82b902",
   "metadata": {},
   "outputs": [],
   "source": [
    "def append_vibe_1(state: State) -> dict:\n",
    "\n",
    "    vibe = \"I'm feeling like a badass today!\"\n",
    "\n",
    "    return {\n",
    "        \"answer\": f\"{state.answer} {state.message} {vibe}\"\n",
    "        }\n",
    "\n",
    "def append_vibe_2(state: State) -> dict:\n",
    "\n",
    "    vibe = \"I'm feeling like a boss today!\"\n",
    "\n",
    "    return {\n",
    "        \"answer\": f\"{state.answer} {state.message} {vibe}\"\n",
    "        }\n",
    "\n",
    "def append_vibe_3(state: State) -> dict:\n",
    "\n",
    "    vibe = \"I'm feeling like a legend today!\"\n",
    "\n",
    "    return {\n",
    "        \"answer\": f\"{state.answer} {state.message} {vibe}\"\n",
    "        }\n",
    "    "
   ]
  },
  {
   "cell_type": "code",
   "execution_count": null,
   "id": "47be6fdf",
   "metadata": {},
   "outputs": [],
   "source": [
    "workflow = StateGraph(State)\n",
    "\n",
    "workflow.add_node(\"append_vibes_to_query\", append_vibes_to_query)\n",
    "workflow.add_node(\"append_vibe_1\", append_vibe_1)\n",
    "workflow.add_node(\"append_vibe_2\", append_vibe_2)\n",
    "workflow.add_node(\"append_vibe_3\", append_vibe_3)\n",
    "\n",
    "workflow.add_edge(START, \"append_vibes_to_query\")\n",
    "\n",
    "workflow.add_conditional_edges(\n",
    "    \"append_vibes_to_query\",\n",
    "    router\n",
    ")\n",
    "\n",
    "workflow.add_edge(\"append_vibe_1\", END)\n",
    "workflow.add_edge(\"append_vibe_2\", END)\n",
    "workflow.add_edge(\"append_vibe_3\", END)\n",
    "\n",
    "graph = workflow.compile()"
   ]
  },
  {
   "cell_type": "code",
   "execution_count": null,
   "id": "ef66ddc3",
   "metadata": {},
   "outputs": [],
   "source": [
    "display(Image(graph.get_graph().draw_mermaid_png()))"
   ]
  },
  {
   "cell_type": "code",
   "execution_count": null,
   "id": "53f2c5e5",
   "metadata": {},
   "outputs": [],
   "source": [
    "initial_state = {\n",
    "    \"message\": \"Give me some vibes!\",\n",
    "}"
   ]
  },
  {
   "cell_type": "code",
   "execution_count": null,
   "id": "37a5529c",
   "metadata": {},
   "outputs": [],
   "source": [
    "result = graph.invoke(initial_state)"
   ]
  },
  {
   "cell_type": "code",
   "execution_count": null,
   "id": "47898039",
   "metadata": {},
   "outputs": [],
   "source": [
    "result"
   ]
  },
  {
   "cell_type": "markdown",
   "id": "f2f181cd",
   "metadata": {},
   "source": [
    "### Agent Graph"
   ]
  },
  {
   "cell_type": "code",
   "execution_count": null,
   "id": "487fad09",
   "metadata": {},
   "outputs": [],
   "source": [
    "def append_vibes(query: str, vibe: str) -> str:\n",
    "    \"\"\"Takes in a query and a vibe and returns a string with the query and vibe appended.\n",
    "\n",
    "    Args:\n",
    "        query: The query to append the vibe to.\n",
    "        vibe: The vibe to append to the query.\n",
    "\n",
    "    Returns:\n",
    "        A string with the query and vibe appended.\n",
    "    \"\"\"\n",
    "    \n",
    "    return f\"{query} {vibe}\""
   ]
  },
  {
   "cell_type": "code",
   "execution_count": null,
   "id": "590e08b2",
   "metadata": {},
   "outputs": [],
   "source": [
    "get_tool_descriptions([append_vibes])"
   ]
  },
  {
   "cell_type": "code",
   "execution_count": null,
   "id": "976e5e30",
   "metadata": {},
   "outputs": [],
   "source": [
    "class ToolCall(BaseModel):\n",
    "    name: str\n",
    "    arguments: dict\n",
    "\n",
    "class AgentResponse(BaseModel):\n",
    "    answer: str\n",
    "    tool_calls: List[ToolCall] = Field(default_factory=list)\n",
    "\n",
    "class State(BaseModel):\n",
    "    messages: Annotated[List[Any], add] = []\n",
    "    message: str = \"\"\n",
    "    iteration: int = 0\n",
    "    answer: str = \"\"\n",
    "    available_tools: List[Dict[str, Any]] = []\n",
    "    tool_calls: List[ToolCall] = []"
   ]
  },
  {
   "cell_type": "code",
   "execution_count": null,
   "id": "2dc6827b",
   "metadata": {},
   "outputs": [],
   "source": [
    "def agent_node(state: State) -> dict:\n",
    "\n",
    "   prompt_template =  \"\"\"You are a assistant that is generating vibes for a user.\n",
    "\n",
    "You will be given a selection of tools you can use to add vibes to a user's query.\n",
    "\n",
    "<Available tools>\n",
    "{{ available_tools | tojson }}\n",
    "</Available tools>\n",
    "\n",
    "When you need to use a tool, format your response as:\n",
    "\n",
    "<tool_call>\n",
    "{\"name\": \"tool_name\", \"arguments\": {...}}\n",
    "</tool_call>\n",
    "\n",
    "Instructions:\n",
    "- You need to use the tools to add vibes to the user's query.\n",
    "- Add a random vibe to the user's query.\n",
    "\"\"\"\n",
    "\n",
    "   template = Template(prompt_template)\n",
    "   \n",
    "   prompt = template.render(\n",
    "      available_tools=state.available_tools\n",
    "   )\n",
    "\n",
    "   client = instructor.from_openai(OpenAI())\n",
    "\n",
    "   response, raw_response = client.chat.completions.create_with_completion(\n",
    "        model=\"gpt-4.1-mini\",\n",
    "        response_model=AgentResponse,\n",
    "        messages=[{\"role\": \"system\", \"content\": prompt}, {\"role\": \"user\", \"content\": state.message}],\n",
    "        temperature=0.5,\n",
    "   )\n",
    "\n",
    "   ai_message = format_ai_message(response)\n",
    "\n",
    "   return {\n",
    "      \"messages\": [ai_message],\n",
    "      \"tool_calls\": response.tool_calls\n",
    "   }"
   ]
  },
  {
   "cell_type": "code",
   "execution_count": null,
   "id": "00d680f3",
   "metadata": {},
   "outputs": [],
   "source": [
    "def tool_router(state: State) -> str:\n",
    "    \"\"\"Decide whether to continue or end\"\"\"\n",
    "    \n",
    "    if len(state.tool_calls) > 0:\n",
    "        return \"tools\"\n",
    "    else:\n",
    "        return \"end\""
   ]
  },
  {
   "cell_type": "code",
   "execution_count": null,
   "id": "7d379b16",
   "metadata": {},
   "outputs": [],
   "source": [
    "workflow = StateGraph(State)\n",
    "\n",
    "tools = [append_vibes]\n",
    "tool_node = ToolNode(tools)\n",
    "tool_descriptions = get_tool_descriptions(tools)\n",
    "\n",
    "workflow.add_node(\"agent_node\", agent_node)\n",
    "workflow.add_node(\"tool_node\", tool_node)\n",
    "\n",
    "workflow.add_edge(START, \"agent_node\")\n",
    "workflow.add_conditional_edges(\n",
    "    \"agent_node\",\n",
    "    tool_router,\n",
    "    {\n",
    "        \"tools\": \"tool_node\",\n",
    "        \"end\": END\n",
    "    }\n",
    ")\n",
    "workflow.add_edge(\"tool_node\", END)\n",
    "\n",
    "graph = workflow.compile()"
   ]
  },
  {
   "cell_type": "code",
   "execution_count": null,
   "id": "de670334",
   "metadata": {},
   "outputs": [],
   "source": [
    "display(Image(graph.get_graph().draw_mermaid_png()))"
   ]
  },
  {
   "cell_type": "code",
   "execution_count": null,
   "id": "db634720",
   "metadata": {},
   "outputs": [],
   "source": [
    "initial_state = {\n",
    "    \"message\": \"Give me some vibes!\",\n",
    "    \"available_tools\": tool_descriptions\n",
    "}\n",
    "result = graph.invoke(initial_state)"
   ]
  },
  {
   "cell_type": "code",
   "execution_count": null,
   "id": "0a9ec476",
   "metadata": {},
   "outputs": [],
   "source": [
    "result"
   ]
  },
  {
   "cell_type": "markdown",
   "id": "00c4bc4c",
   "metadata": {},
   "source": [
    "### Agent Graph with Loopback from Tools"
   ]
  },
  {
   "cell_type": "code",
   "execution_count": null,
   "id": "99c70ace",
   "metadata": {},
   "outputs": [],
   "source": [
    "def append_vibes(query: str, vibe: str) -> str:\n",
    "    \"\"\"Takes in a query and a vibe and returns a string with the query and vibe appended.\n",
    "\n",
    "    Args:\n",
    "        query: The query to append the vibe to.\n",
    "        vibe: The vibe to append to the query.\n",
    "\n",
    "    Returns:\n",
    "        A string with the query and vibe appended.\n",
    "    \"\"\"\n",
    "    \n",
    "    return f\"{query} {vibe}\""
   ]
  },
  {
   "cell_type": "code",
   "execution_count": null,
   "id": "17fbed12",
   "metadata": {},
   "outputs": [],
   "source": [
    "class ToolCall(BaseModel):\n",
    "    name: str\n",
    "    arguments: dict\n",
    "\n",
    "class AgentResponse(BaseModel):\n",
    "    answer: str\n",
    "    tool_calls: List[ToolCall] = Field(default_factory=list)\n",
    "\n",
    "class State(BaseModel):\n",
    "    messages: Annotated[List[Any], add] = []\n",
    "    message: str = \"\"\n",
    "    iteration: int = 0\n",
    "    answer: str = \"\"\n",
    "    available_tools: List[Dict[str, Any]] = []\n",
    "    tool_calls: List[ToolCall] = []"
   ]
  },
  {
   "cell_type": "code",
   "execution_count": null,
   "id": "190614d6",
   "metadata": {},
   "outputs": [],
   "source": [
    "def agent_node(state: State) -> dict:\n",
    "\n",
    "   prompt_template =  \"\"\"You are a assistant that is generating vibes for a user.\n",
    "\n",
    "You will be given a selection of tools you can use to add vibes to a user's query.\n",
    "\n",
    "<Available tools>\n",
    "{{ available_tools | tojson }}\n",
    "</Available tools>\n",
    "\n",
    "When you need to use a tool, format your response as:\n",
    "\n",
    "<tool_call>\n",
    "{\"name\": \"tool_name\", \"arguments\": {...}}\n",
    "</tool_call>\n",
    "\n",
    "Instructions:\n",
    "- You need to use the tools to add vibes to the user's query.\n",
    "- Add a random vibe to the user's query.\n",
    "- You must return a tool call in the first interaction.\n",
    "\"\"\"\n",
    "\n",
    "   template = Template(prompt_template)\n",
    "   \n",
    "   prompt = template.render(\n",
    "      available_tools=state.available_tools\n",
    "   )\n",
    "\n",
    "   messages = state.messages\n",
    "\n",
    "   conversation = convert_to_openai_messages(messages)\n",
    "\n",
    "   client = instructor.from_openai(OpenAI())\n",
    "\n",
    "   response, raw_response = client.chat.completions.create_with_completion(\n",
    "        model=\"gpt-4.1-mini\",\n",
    "        response_model=AgentResponse,\n",
    "        messages=[{\"role\": \"system\", \"content\": prompt}, *conversation],\n",
    "        temperature=0.5,\n",
    "   )\n",
    "\n",
    "   ai_message = format_ai_message(response)\n",
    "\n",
    "   return {\n",
    "      \"messages\": [ai_message],\n",
    "      \"tool_calls\": response.tool_calls,\n",
    "      \"iteration\": state.iteration + 1,\n",
    "      \"answer\": response.answer\n",
    "   }"
   ]
  },
  {
   "cell_type": "code",
   "execution_count": null,
   "id": "df38dec0",
   "metadata": {},
   "outputs": [],
   "source": [
    "def tool_router(state: State) -> str:\n",
    "    \"\"\"Decide whether to continue or end\"\"\"\n",
    "    \n",
    "    if state.iteration > 1:\n",
    "        return \"end\"\n",
    "    elif len(state.tool_calls) > 0:\n",
    "        return \"tools\"\n",
    "    else:\n",
    "        return \"end\""
   ]
  },
  {
   "cell_type": "code",
   "execution_count": null,
   "id": "95ec54ad",
   "metadata": {},
   "outputs": [],
   "source": [
    "workflow = StateGraph(State)\n",
    "\n",
    "tools = [append_vibes]\n",
    "tool_node = ToolNode(tools)\n",
    "tool_descriptions = get_tool_descriptions(tools)\n",
    "\n",
    "workflow.add_node(\"agent_node\", agent_node)\n",
    "workflow.add_node(\"tool_node\", tool_node)\n",
    "\n",
    "workflow.add_edge(START, \"agent_node\")\n",
    "workflow.add_conditional_edges(\n",
    "    \"agent_node\",\n",
    "    tool_router,\n",
    "    {\n",
    "        \"tools\": \"tool_node\",\n",
    "        \"end\": END\n",
    "    }\n",
    ")\n",
    "\n",
    "workflow.add_edge(\"tool_node\", \"agent_node\")\n",
    "\n",
    "graph = workflow.compile()"
   ]
  },
  {
   "cell_type": "code",
   "execution_count": null,
   "id": "ef6a4a1c",
   "metadata": {},
   "outputs": [],
   "source": [
    "display(Image(graph.get_graph().draw_mermaid_png()))"
   ]
  },
  {
   "cell_type": "code",
   "execution_count": null,
   "id": "625ce77c",
   "metadata": {},
   "outputs": [],
   "source": [
    "initial_state = {\n",
    "    \"messages\": [{\"role\": \"user\", \"content\": \"Give me some vibes!\"}],\n",
    "    \"available_tools\": tool_descriptions\n",
    "}\n",
    "result = graph.invoke(initial_state)"
   ]
  },
  {
   "cell_type": "code",
   "execution_count": null,
   "id": "7227d81f",
   "metadata": {},
   "outputs": [],
   "source": [
    "result"
   ]
  },
  {
   "cell_type": "code",
   "execution_count": null,
   "id": "2f305a0b",
   "metadata": {},
   "outputs": [],
   "source": []
  }
 ],
 "metadata": {
  "kernelspec": {
   "display_name": ".venv",
   "language": "python",
   "name": "python3"
  },
  "language_info": {
   "codemirror_mode": {
    "name": "ipython",
    "version": 3
   },
   "file_extension": ".py",
   "mimetype": "text/x-python",
   "name": "python",
   "nbconvert_exporter": "python",
   "pygments_lexer": "ipython3",
   "version": "3.12.8"
  }
 },
 "nbformat": 4,
 "nbformat_minor": 5
}
