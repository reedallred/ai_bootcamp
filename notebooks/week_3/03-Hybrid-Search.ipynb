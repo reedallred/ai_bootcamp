{
 "cells": [
  {
   "cell_type": "markdown",
   "id": "5284a0c2",
   "metadata": {},
   "source": [
    "#### Import Dependencies"
   ]
  },
  {
   "cell_type": "code",
   "execution_count": null,
   "id": "137d0f7d",
   "metadata": {},
   "outputs": [],
   "source": [
    "from qdrant_client import QdrantClient\n",
    "from qdrant_client.models import VectorParams, Distance, PayloadSchemaType, PointStruct, SparseVectorParams, Document, Prefetch, FusionQuery\n",
    "from qdrant_client import models\n",
    "\n",
    "import pandas as pd\n",
    "import openai\n",
    "import fastembed"
   ]
  },
  {
   "cell_type": "code",
   "execution_count": null,
   "id": "8beb4e7d",
   "metadata": {},
   "outputs": [],
   "source": [
    "qdrant_client = QdrantClient(url=\"http://localhost:6333\")"
   ]
  },
  {
   "cell_type": "markdown",
   "id": "dfd2fa4c",
   "metadata": {},
   "source": [
    "#### Create Qdrant collection for hybrid search"
   ]
  },
  {
   "cell_type": "code",
   "execution_count": null,
   "id": "2bcd29ee",
   "metadata": {},
   "outputs": [],
   "source": [
    "qdrant_client.create_collection(\n",
    "    collection_name=\"Amazon-items-collection-01-hybrid-search\",\n",
    "    vectors_config={\"text-embedding-3-small\": VectorParams(size=1536, distance=Distance.COSINE)},\n",
    "    sparse_vectors_config={\"bm25\": SparseVectorParams(modifier=models.Modifier.IDF)}\n",
    ")"
   ]
  },
  {
   "cell_type": "code",
   "execution_count": null,
   "id": "ec74eae7",
   "metadata": {},
   "outputs": [],
   "source": [
    "qdrant_client.create_payload_index(\n",
    "    collection_name=\"Amazon-items-collection-01-hybrid-search\",\n",
    "    field_name=\"parent_asin\",\n",
    "    field_schema=PayloadSchemaType.KEYWORD\n",
    ")"
   ]
  },
  {
   "cell_type": "markdown",
   "id": "60a934ac",
   "metadata": {},
   "source": [
    "#### Embedding functions"
   ]
  },
  {
   "cell_type": "code",
   "execution_count": null,
   "id": "8e18207f",
   "metadata": {},
   "outputs": [],
   "source": [
    "def get_embedding(text, model=\"text-embedding-3-small\"):\n",
    "    response = openai.embeddings.create(\n",
    "        input=[text],\n",
    "        model=model,\n",
    "    )\n",
    "    return response.data[0].embedding"
   ]
  },
  {
   "cell_type": "code",
   "execution_count": null,
   "id": "cec1bb99",
   "metadata": {},
   "outputs": [],
   "source": [
    "def get_embeddings_batch(text_list, model=\"text-embedding-3-small\", batch_size=100):\n",
    "    \n",
    "    if len(text_list) <= batch_size:\n",
    "        response = openai.embeddings.create(input=text_list, model=model)\n",
    "        return [embedding.embedding for embedding in response.data]\n",
    "    \n",
    "    all_embeddings = []\n",
    "    counter = 1\n",
    "    for i in range(0, len(text_list), batch_size):\n",
    "        batch = text_list[i:i + batch_size]\n",
    "        response = openai.embeddings.create(input=batch, model=model)\n",
    "        all_embeddings.extend([embedding.embedding for embedding in response.data])\n",
    "        print(f\"Processed {counter * batch_size} of {len(text_list)}\")\n",
    "        counter += 1\n",
    "    \n",
    "    return all_embeddings"
   ]
  },
  {
   "cell_type": "markdown",
   "id": "3c4b2e46",
   "metadata": {},
   "source": [
    "#### Process and Embed Amazon Items Data"
   ]
  },
  {
   "cell_type": "code",
   "execution_count": null,
   "id": "7355014f",
   "metadata": {},
   "outputs": [],
   "source": [
    "df_items = pd.read_json(\"../../data/meta_Electronics_2022_2023_with_category_ratings_100_sample_1000.jsonl\", lines=True)"
   ]
  },
  {
   "cell_type": "code",
   "execution_count": null,
   "id": "b14d48b4",
   "metadata": {},
   "outputs": [],
   "source": [
    "def preprocess_description(row):\n",
    "    return f\"{row['title']} {' '.join(row['features'])}\""
   ]
  },
  {
   "cell_type": "code",
   "execution_count": null,
   "id": "0ebeab3f",
   "metadata": {},
   "outputs": [],
   "source": [
    "def extract_first_large_image(row):\n",
    "    return row[\"images\"][0].get(\"large\", \"\")"
   ]
  },
  {
   "cell_type": "code",
   "execution_count": null,
   "id": "77d39703",
   "metadata": {},
   "outputs": [],
   "source": [
    "df_items[\"description\"] = df_items.apply(preprocess_description, axis=1)\n",
    "df_items[\"image\"] = df_items.apply(extract_first_large_image, axis=1)"
   ]
  },
  {
   "cell_type": "code",
   "execution_count": null,
   "id": "ed2403c9",
   "metadata": {},
   "outputs": [],
   "source": [
    "df_sample = df_items.sample(500, random_state=42)"
   ]
  },
  {
   "cell_type": "code",
   "execution_count": null,
   "id": "1317dc07",
   "metadata": {},
   "outputs": [],
   "source": [
    "data_to_embed = df_sample[[\"description\", \"image\", \"rating_number\", \"price\", \"average_rating\", \"parent_asin\"]].to_dict(orient=\"records\")"
   ]
  },
  {
   "cell_type": "code",
   "execution_count": null,
   "id": "7b3b2633",
   "metadata": {},
   "outputs": [],
   "source": [
    "data_to_embed"
   ]
  },
  {
   "cell_type": "code",
   "execution_count": null,
   "id": "3164e495",
   "metadata": {},
   "outputs": [],
   "source": [
    "text_to_embed = [data[\"description\"] for data in data_to_embed]"
   ]
  },
  {
   "cell_type": "code",
   "execution_count": null,
   "id": "806b33b3",
   "metadata": {},
   "outputs": [],
   "source": [
    "text_to_embed"
   ]
  },
  {
   "cell_type": "code",
   "execution_count": null,
   "id": "e3d63036",
   "metadata": {},
   "outputs": [],
   "source": [
    "embeddings = get_embeddings_batch(text_to_embed)"
   ]
  },
  {
   "cell_type": "code",
   "execution_count": null,
   "id": "8e4d9345",
   "metadata": {},
   "outputs": [],
   "source": [
    "pointstructs = []\n",
    "i = 1\n",
    "for embedding, data in zip(embeddings, data_to_embed):\n",
    "    pointstructs.append(\n",
    "        PointStruct(\n",
    "            id=i,\n",
    "            vector={\n",
    "                \"text-embedding-3-small\": embedding,\n",
    "                \"bm25\": Document(\n",
    "                    text=data[\"description\"],\n",
    "                    model=\"qdrant/bm25\"\n",
    "                )\n",
    "            },\n",
    "            payload=data\n",
    "        )\n",
    "    )\n",
    "    i += 1"
   ]
  },
  {
   "cell_type": "code",
   "execution_count": null,
   "id": "87ae0543",
   "metadata": {},
   "outputs": [],
   "source": [
    "pointstructs"
   ]
  },
  {
   "cell_type": "code",
   "execution_count": null,
   "id": "9c291e95",
   "metadata": {},
   "outputs": [],
   "source": [
    "qdrant_client.upsert(\n",
    "    collection_name=\"Amazon-items-collection-01-hybrid-search\",\n",
    "    points=pointstructs\n",
    ")"
   ]
  },
  {
   "cell_type": "markdown",
   "id": "442da796",
   "metadata": {},
   "source": [
    "#### Hybrid Retrieval"
   ]
  },
  {
   "cell_type": "code",
   "execution_count": null,
   "id": "a77897a8",
   "metadata": {},
   "outputs": [],
   "source": [
    "def retrieve_data(query, qdrant_client, k=5):\n",
    "\n",
    "    query_embedding = get_embedding(query)\n",
    "\n",
    "    results = qdrant_client.query_points(\n",
    "        collection_name=\"Amazon-items-collection-01-hybrid-search\",\n",
    "        prefetch=[\n",
    "            Prefetch(\n",
    "                query=query_embedding,\n",
    "                using=\"text-embedding-3-small\",\n",
    "                limit=20\n",
    "            ),\n",
    "            Prefetch(\n",
    "                query=Document(\n",
    "                    text=query,\n",
    "                    model=\"qdrant/bm25\"\n",
    "                ),\n",
    "                using=\"bm25\",\n",
    "                limit=20\n",
    "            )\n",
    "        ],\n",
    "        query=FusionQuery(fusion=\"rrf\"),\n",
    "        limit=k,\n",
    "    )\n",
    "\n",
    "    retrieved_context_ids = []\n",
    "    retrieved_context = []\n",
    "    retrieved_context_ratings = []\n",
    "    similarity_scores = []\n",
    "\n",
    "    for result in results.points:\n",
    "        retrieved_context_ids.append(result.payload[\"parent_asin\"])\n",
    "        retrieved_context.append(result.payload[\"description\"])\n",
    "        retrieved_context_ratings.append(result.payload[\"average_rating\"])\n",
    "        similarity_scores.append(result.score)\n",
    "\n",
    "    return {\n",
    "        \"retrieved_context_ids\": retrieved_context_ids,\n",
    "        \"retrieved_context\": retrieved_context,\n",
    "        \"retrieved_context_ratings\": retrieved_context_ratings,\n",
    "        \"similarity_scores\": similarity_scores,\n",
    "    }"
   ]
  },
  {
   "cell_type": "code",
   "execution_count": null,
   "id": "f00830b2",
   "metadata": {},
   "outputs": [],
   "source": [
    "results = retrieve_data(\"Can I get some tablet?\", qdrant_client, k=20)"
   ]
  },
  {
   "cell_type": "code",
   "execution_count": null,
   "id": "93669c34",
   "metadata": {},
   "outputs": [],
   "source": [
    "results"
   ]
  },
  {
   "cell_type": "code",
   "execution_count": null,
   "id": "63ae0d08",
   "metadata": {},
   "outputs": [],
   "source": []
  }
 ],
 "metadata": {
  "kernelspec": {
   "display_name": ".venv",
   "language": "python",
   "name": "python3"
  },
  "language_info": {
   "codemirror_mode": {
    "name": "ipython",
    "version": 3
   },
   "file_extension": ".py",
   "mimetype": "text/x-python",
   "name": "python",
   "nbconvert_exporter": "python",
   "pygments_lexer": "ipython3",
   "version": "3.12.7"
  }
 },
 "nbformat": 4,
 "nbformat_minor": 5
}
