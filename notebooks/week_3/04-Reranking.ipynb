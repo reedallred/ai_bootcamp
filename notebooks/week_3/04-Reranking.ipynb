{
 "cells": [
  {
   "cell_type": "markdown",
   "id": "946e1227",
   "metadata": {},
   "source": [
    "#### Import Dependencies"
   ]
  },
  {
   "cell_type": "code",
   "execution_count": 1,
   "id": "71b2427f",
   "metadata": {},
   "outputs": [
    {
     "name": "stderr",
     "output_type": "stream",
     "text": [
      "/Users/reedallred/code/ai_bootcamp/.venv/lib/python3.12/site-packages/tqdm/auto.py:21: TqdmWarning: IProgress not found. Please update jupyter and ipywidgets. See https://ipywidgets.readthedocs.io/en/stable/user_install.html\n",
      "  from .autonotebook import tqdm as notebook_tqdm\n"
     ]
    }
   ],
   "source": [
    "from qdrant_client import QdrantClient\n",
    "from qdrant_client.models import VectorParams, Distance, PayloadSchemaType, PointStruct, SparseVectorParams, Document, Prefetch, FusionQuery\n",
    "from qdrant_client import models\n",
    "\n",
    "import pandas as pd\n",
    "import openai\n",
    "import cohere"
   ]
  },
  {
   "cell_type": "markdown",
   "id": "6ddefb9f",
   "metadata": {},
   "source": [
    "#### Retrieval"
   ]
  },
  {
   "cell_type": "code",
   "execution_count": 2,
   "id": "638865c6",
   "metadata": {},
   "outputs": [],
   "source": [
    "qdrant_client = QdrantClient(url=\"http://localhost:6333\")"
   ]
  },
  {
   "cell_type": "code",
   "execution_count": 3,
   "id": "c63ef902",
   "metadata": {},
   "outputs": [],
   "source": [
    "def get_embedding(text, model=\"text-embedding-3-small\"):\n",
    "    response = openai.embeddings.create(\n",
    "        input=[text],\n",
    "        model=model,\n",
    "    )\n",
    "    return response.data[0].embedding"
   ]
  },
  {
   "cell_type": "code",
   "execution_count": 4,
   "id": "31372c77",
   "metadata": {},
   "outputs": [],
   "source": [
    "def retrieve_data(query, qdrant_client, k=5):\n",
    "\n",
    "    query_embedding = get_embedding(query)\n",
    "\n",
    "    results = qdrant_client.query_points(\n",
    "        collection_name=\"Amazon-items-collection-01-hybrid-search\",\n",
    "        prefetch=[\n",
    "            Prefetch(\n",
    "                query=query_embedding,\n",
    "                using=\"text-embedding-3-small\",\n",
    "                limit=20\n",
    "            ),\n",
    "            Prefetch(\n",
    "                query=Document(\n",
    "                    text=query,\n",
    "                    model=\"qdrant/bm25\"\n",
    "                ),\n",
    "                using=\"bm25\",\n",
    "                limit=20\n",
    "            )\n",
    "        ],\n",
    "        query=FusionQuery(fusion=\"rrf\"),\n",
    "        limit=k,\n",
    "    )\n",
    "\n",
    "    retrieved_context_ids = []\n",
    "    retrieved_context = []\n",
    "    retrieved_context_ratings = []\n",
    "    similarity_scores = []\n",
    "\n",
    "    for result in results.points:\n",
    "        retrieved_context_ids.append(result.payload[\"parent_asin\"])\n",
    "        retrieved_context.append(result.payload[\"description\"])\n",
    "        retrieved_context_ratings.append(result.payload[\"average_rating\"])\n",
    "        similarity_scores.append(result.score)\n",
    "\n",
    "    return {\n",
    "        \"retrieved_context_ids\": retrieved_context_ids,\n",
    "        \"retrieved_context\": retrieved_context,\n",
    "        \"retrieved_context_ratings\": retrieved_context_ratings,\n",
    "        \"similarity_scores\": similarity_scores,\n",
    "    }"
   ]
  },
  {
   "cell_type": "code",
   "execution_count": 5,
   "id": "675282fd",
   "metadata": {},
   "outputs": [],
   "source": [
    "query = \"Can I get some tablet?\""
   ]
  },
  {
   "cell_type": "code",
   "execution_count": 6,
   "id": "02b4e143",
   "metadata": {},
   "outputs": [],
   "source": [
    "results = retrieve_data(query, qdrant_client, k=20)"
   ]
  },
  {
   "cell_type": "code",
   "execution_count": 7,
   "id": "92e4e235",
   "metadata": {},
   "outputs": [
    {
     "data": {
      "text/plain": [
       "{'retrieved_context_ids': ['B0B8NVNQKX',\n",
       "  'B09LH466KZ',\n",
       "  'B0BR33XH8D',\n",
       "  'B0BN7WWH63',\n",
       "  'B0C78B1BTB',\n",
       "  'B0BL2CZSHT',\n",
       "  'B0BFGXRMJN',\n",
       "  'B08CGM6Y1J',\n",
       "  'B0C3XYD574',\n",
       "  'B0C772GZRF',\n",
       "  'B0BTPG4XHH',\n",
       "  'B0BVZ47N6N',\n",
       "  'B0BC78N85F',\n",
       "  'B0BRXZDBXZ',\n",
       "  'B0BMVR2MVC',\n",
       "  'B0BBPVCFW7',\n",
       "  'B0BP1YXF3R',\n",
       "  'B0BS15TRJ3',\n",
       "  'B09PYKX76X',\n",
       "  'B0BSGDCVND'],\n",
       " 'retrieved_context': ['COOPERS 7 inch Kids Tablet Android 11 Tablet for Kids, 2GB RAM + 32GB ROM Toddler Tablet PC for Children, IPS Touch Screen, Dual Camera, Dual Speaker, WiFi Computer Tablet, Light Blue ✿【Good Kids tablet】This 7 inch tablet for kids with silm body and lightweight, it is easy to hold by children. Also the special design can protect the tablet well when dropping. ✿【Parental Control】Toddlers Tablet with parent mode can add or block apps. Set screen time limits. This tablet come with iwawa app. kids can get access to fun and educational games and videos. ✿【Powerful Tablets】Equipmented with quad core CPU, Android 11.0 System, 32GB Big Storage, 1024*600 IPS Screen offer a clear view. Runs Kinds of apps and game for kids smoothly. ✿【Long Lasting】Tablet for kids built with large capacity battery. For mixed use up to 6 hours. You can enjoy happy parent-child time with your kids. ✿【Best Gift】This high performance Children tablet is designed specially for kids. Best gift choice for Christmas, New Year, Easter, Birthday and school supplies. Pacakge come with 1* tablet, 1* charger, 1* cable',\n",
       "  'ALZHIJ Portable Tablet Holder Stand - Aluminum Alloy Desktop Stand Adjustable Angle&Height Tablet Stand Holder Creative Tablet Stand Compatible with Various Tablet UP to 12IN Wide (Grey) 😃MADE OF HIGH-QUALITY MATERIALS:The high-quality aluminum alloy material achieves the perfect performance of the tablet holder for bed, making the tablet wear-resistant and scratch-resistant, and has excellent corrosion resistance. The superb anodizing process increases the color and luster of the table stand and makes it richer in texture. 😃EXQUISITE APPEARANCE DESIGN:The personalized smiley face design can not only be a better decoration for this tablet stand for desk, but also provide a long-lasting heat dissipation effect for the tablet during use, making your tablet run more efficiently. The tablet stand for bed is designed with multiple non-slip silicone pads to protect the tablet from damage at all times. 😃180°FREELY ADJUSTABLE ANGLE:The tablet floor stand adopts a stable dual-axis mechanism design, which is firm and not easy to shake. The angle and height can be adjusted arbitrarily, giving you a perfect experience. Lightweight and portable adjustable stand, completely bid farewell to the troubles of traditional stand that are too heavy and make your life more convenient. 😃A WIDE RANGE OF APPLICATIONS:A tablet stand that integrates practical, beautiful, portable and other elements into one. It has a wide range of applications and can be compatible with various tablet up to 15.6 inches wide. The adjustable tablet stand can be used for work, travel, watching drama, and study, giving you a perfect experience. 😃OUR GURANTEE FOR YOU:Everything I do is based on customer satisfaction. If you are not completely satisfied with the purchased product or the product is damaged or broken in transit, please contact us in time. We will solve your problem as quickly as possible!',\n",
       "  'Universal 7 8 Inch Android Tablet Case, Universal Tablet Case Cover for 7 8 Inch Tablet, Nannxiebky Multi-Angle Viewing Stand Case for 7.0-8.5 Inch Tablet, Bird Flower Nannxiebky 8 inch tablet case, Such as compatible with Samsung Galaxy Tab A/S2/E 8.0 inch tablet case, Galaxy Tab A 8.4 inch tablet case, also compatible with LECTRUS AEEZO AOYODKG CWOWDEFU Pritom 8 inch Android tablet case(No back camera opening, not support auto sleep/wake Function). Tablet case for 8 inch tablet, compatible with Drangon Touch Y80 tablet case / MatrixPad S8 tablet case / Winnovo T8 tablet case / TECLAST P80 P80H P80X MIX 8 tablet case / Onn 8 inch tablet case.(No back camera opening, not support auto sleep/wake Function). Nannxiebky 7 inch tablet case, Such as samsung galaxy Tab 7.0 inch tablet case, walmart Onn 7 inch tablet case, also compatible with MatrixPad Dragon Touch Contixo Pritom qunyiCO AEEZO TOPELOTEK Haehne HAOQIN Winnovo ZONKO 7 inch tablet case. (No back camera opening, not support auto sleep/wake Function) Interior card slots and document pocket are designed for carrying your credit card / business cards/ some notes or bills while on the go. Multi-Angle viewing stand function for watching, you could attach the magnet closure to the back and make it keep away from screen.',\n",
       "  \"All-New Fire HD 8 Tablet Case, Fire Tablet 8 &8 Plus Case for Kids (Compatible 2022 & 2020 Release) - Auorld Kid-Proof Light-Weight Case for Fire HD 8 inch Tablet, Blue Tablet 8 Kids Case design specifically for all-new 8 inch Tablet and 8 Plus Tablet(12th/10th Generation, 2022/2020 Release), NOT fit for other models. Made with dense heavy duty EVA foam, material can withstand considerable wear and tear and provide extreme shock protection. Super lightweight and durable hazard free safe material perfect for kids and grownups alike PRECISE OPENINGS-Cutouts for easy access to all-new 8 inch tablet & 8 plus tablet buttons, ports, speakers and rear-camera. When installing, remove the black frame first.Raised screen bezel edges for extra protection when fall Special rear pattern with raised supports for grip and drop protection in a honey comb design. Anti-slip side grip feature with ergonomic grip supports What You Get: 1x tablet case,friendly customer service. Accessory: the tablet don't be included, NO screen protector included\",\n",
       "  \"Blackview Tab 5 Tablets, 2023 Latest Tablet Android 12, Quad-Core 5GB(3+2) RAM 64GB ROM up to 1TB TF, 8 inch Tablet HD+ IPS 1280*800, Android Tablet 5580mAh Big Battery, Dual BOX Speakers WiFi, Blue 【1280*800 IPS 8 Inch Tablet】The Blackview Tab 5 uses an HD+ screen, which is better and more eye friendly than other tablets that use 1024 x 600 resolution display. Enjoy your favorite apps like Netflix, Facebook, Hulu, Instagram, TikTok, and more through Google Play. It can gives you an ideal vision for productivity tasks, reading and entertainment. 【Enhanced Performance Tablet】📢📢📢Blackview has exclusive technology that can 🔸expand 3GB RAM to 5GB (2GB virtual memory)🔸on this android tablet, greatly improving the performance and speed, and no longer stuttering when running several apps at once. It also has an TF card slot that can be plugged into 1TB of expanded memory, with the 64GB ROM, this tablet can store lots of music, pictures, videos. 【Latest Android 12 tablet+DOKE O_P 3.0 GO】Android 12 has enhanced security and privacy features, as well as optimized the notification bar settings and Hotkeys for greater security and convenience. DOKE OS_P 3.0 GO is designed for blackview tablets. It makes the interface more beautiful based on Android 12, adding split screen, screen shot, screen recoard,dark theme, etc. 【5580mAh All day Battery Life Google Tablet】Extend your joy with extended battery life. Blackview Tab 5 never runs out of battery to enjoy reading, browsing the web, watching videos, and listening to music at home and on-the-go. We also added a power-saving mode, so it can lasts longer than other tablets which have 3500-5000mah batteries. 【Great fit for Family】Blackview Tab 5 tablet has parental controls mode, parents can create child profiles to limit screen time, set educational goals, and manage content with easy-to-use parental controls. It's Google GMS Certified, so it's also a great gift for your parents, Keep in touch with them through this android tablet. Father‘s day gift 【2 years Warranty】This android 8 inch tablet have 2 years guarantee policy and 30 days free return. In the unlikely event that the product is defective, please contact us through your Amazon purchase history. We will do our best to satisfy our customers.\",\n",
       "  'All-New 10and 10 Plus 2021 Tablet Case for Kids, Ubearkk Adult & Kids Friendly Light Weight Shock Proof Kid-Proof Back Cover Compatible 101h Generation 2021 Model Compatibility- Designed for All-New ＨＤ 10 & ＨＤ 10 Plus Tablet & ＨＤ 10 Kids Pro Tablet Latest model(Only compatible with 11th Generation, 2021 Release). NOT Fit for other generations. Kids-proof Case-Made with dense heavy duty EVA foam material can withstand considerable wear and tear and provide extreme shock protection. Super light weight and durable hazard free safe material perfect for kids and grownups alike. Built-in Kickstand - Designed with a foldable kick-stand on the back of the case, allows you to set up multiple angles and gives you the hands-free convenience when watching videos and movies. Precise cutouts- Full access to all ports, buttons, and cameras, speakers and rear-camera without removing the tablet case. What You Get- Tablet case x 1.(The tablet is not included, and NO screen protector included). If you encounter any problems, please feel free to contact us.',\n",
       "  \"JSAUX Tablet Pillow Stand, Tablet Stand Holder Dock for Lap, Bed and Desk Compatible with iPad Pro 11 10.5 9.7 10.2 Air Mini, Kindle, Tablets, Phones, E-Reader, Books and More 4-11'' devices Navy Blue 【Tablet Pillow Stand】JSAUX tablet pillow stand is perfect for Reading, watching videos&photos or typing while lying in bed, or sitting on sofa or rug. It holds your device well and make your life wonderful. 【Compatibility】Compatible with iPad mini 2 3 4 5 6, iPad 2017, 2018, 2019, 2020, 2021, iPad Pro 2016,2017, iPad Pro 11-inch, iPad Air 2013, 2014, 2019, 2020, 2022 (1st - 5th generation), Samsung Galaxy Tab S6 Lite, S7, S8, A7, A7 Lite, A8, A8.4, e-readers, Kindle, Kindle Paperwhite, Kindle Oasis, Kindle Scribe, Fire, Fire Plus, Fire Kids, Fire Kids Pro, smartphones and more 4-11 inches devices. 【Multi-angle Viewing】The soft and skin-friendly iPad holder has multi angle adjustments. With the combination of hook and loop strips & deeper grooves, you can freely adjust to a comfortable viewing angle. 【Considerate Details】JSAUX tablet stand holder dock provides more considerate details design. The mesh net pocket can be used to put the charging cable and charger. The pencil holder for your pencil fixing. Removable and washable soft case with bottom invisible zipper. 【What You Get】We provide this tablet holder with an 18-Month worry-free period and 24/7 friendly client consultation, if you have any questions, we will resolve your issue within 24 hours.\",\n",
       "  '8in Tablet Case for Kids (12/10th Generation, 2022/2020 Release), OQDDQO Light Weight Anti Slip Shockproof Kids Friendly Case for 8 inch Tablet (Black) New Design: Specially designed for All-New tablet 8 case (8in tablet 12/10th Generation, 2022/2020 Release), Compatible with 8 Plus case. Note: Not applicable to other tablets Super protection: With a protective layer of 1.5mm thickness, it is designed for double airbags with four corners for safer and more effective protection. Comfortable touch: side non-slip texture, 3D texture on the back, high-quality EVA material, very comfortable hand. Precise incision: All Ports, buttons and speakers have precise cut-outs for Easy access. we gift to you extra two wrist ropes to prevent the tablet from accidentally falling causing damage. Warranty: If you have any questions or dissatisfaction with our products or services,please feel free to contact us we will be happy to help you.',\n",
       "  'ROWT Tablet for Kids 10 inch Kids Tablet 2GB RAM 32GB ROM Android 11 6000mAh Wi-Fi, Bluetooth, Kid-Proof Case(Blue) 【Kids\\' Safety & Parental Controls】Looking for a safe tablet that\\'s easy for your kids to use? This 10-inch tablet for kids is GMS-certified, has password protection, a content filter, and a one-button lock screen, making it easier for parents to keep an eye on their kids activities and learning. 【Creative Educational Content】Our kids tablet provides access to a range of age-appropriate creative kids content such as drawing, educational games, eBooks, learning videos, math tools, and much more! Learning through play is best for kids to understand the world. 【Powerful Configuration & Full Access to Google】This Android 11 kids tablet has an HD 1280x800 IPS touchscreen, 1.6 GHz Quad-Core processor, 2GB RAM & 32GB ROM storage, dual cameras, and a large battery with 6000mAh capacity. You have full access to Google Play to download the latest apps such as Gmail, Disney+, Youtube, and many more. 【10.1\" Large Screen + Eye Protection】This kids tablet is designed with a 10.1-inch large HD screen. The screen is designed to produce less glare and provide more clarity and brightness. It helps protect your eyes by reducing damage from blue light, letting your child be safer and more comfortable while using the tablet. 【Durable Kid-proof Case】Designed to be easy to use, this 10-inch large yet portable kids tablet includes a protective case with a built-in stand to protect the kids tablet from scratches and bumps. This kids tablet is a great gift for birthdays, Christmas, holidays, and more.',\n",
       "  \"Paxodo Kids Tablet, 10 inch, Android 10 Tablet PC, 6000mAh, 32GB ROM, Quad-Core, HD Dual Camera, WiFi, Parental Control, Kid-Proof Case (Blue) 🛫【High Performance Kids Tablet】Paxodo Kids Tablet uses Android 10 operating system, and has a built-in 1.6GHz high-performance quad-core CPU, 2G RAM, 32G ROM, Faster than other tablets. 🛫【Rich Application Resources】Full-featured tablet. With GMS certification, Download apps from Google Play Store, Gives you the best resources for learning and entertainment. 🛫【Parental Control Mode】Has a great parental control mode that allows for time limits, educational goals, filtering of age appropriate content ……,To create a safe online environment for kids. 🛫【Eye protection HD screen】Features a premium IPS 1280x800 HD screen. Designed with low blue light technology. Enter reading mode with one click, helping be safer and more comfortable. 🛫【Battery Capacity & Kid-proof Case】Has a large built-in 6000 mAh battery, giving up to 5 hours of daily use with a single charge. It's convenient for long flights, camping, and road trips.\",\n",
       "  'Lucrave Tablet Stand Holder for Desk, Adjustable Foldable Aluminum iPad Stand Compatible with Tablet Such as iPad Pro 9.7, 10.5, 12.9 Air Mini 4 3 2, Kindle, Nexus, Galaxy, E-Reader (4-13\") - Silver Sturdy Construction: Made of full aluminum alloy material, with aluminum dual rod, a thicker, bigger base and a center of gravity design, which is strong enough to accommodate your phone and tablets. It is very suitable for large-sized tablets, even tablet with a heavy case. Multi-Angle Adjustable: Adjustable tablet holder supporting both vertical and horizontal viewing. It offers optimal viewing angles for different activities, such as writing on tablets, watching films, playing games, reading recipes, etc. For solid support, it may be a little hard to adjust the angle (Excellent stability). Ventilation Hollow Design and Protective Pads: Featured with a creative hollow design, this tablet holder allows more airflow to help cool down devices. The soft silicone pads at the back and hooks safeguard your devices from scratches. The rubber pads at the bottom prevent the stand from sliding. Smart Lifestyle: We committed to achieving stability. This stand is in medium size, not a small stand.- Super stable. Long life performance. Perfect for playing game, watching videos, viewing photos, reading, typing, video recording,working ETC. Wide Compatibility: Desktop tablet ipad holder is compatible with 4.7\"-12.9\" screen cellphones and tablets, such as iPad Mini 6 5 4, iPad 9.7, iPad Air 2 3 4, iPad Pro 9.7 10.5 11 12.9, Microsoft Surface Pro series, Fire HD 7 8 10, Switch, Samsung Galaxy Tab series and more.',\n",
       "  \"VILVA Portable-Monitor-for-Laptop - 15.6'' 1080P FHD IPS Display USB-C&HDMI Portable Monitor for Laptop with Cover and Speakers, External Monitor for Laptop/PC/Mac/Phone/Xbox Switch/PS4 ✅Experience Unrivaled Visuals: Get the ultimate viewing experience with the VILVA Professional Portable Monitor! With its incredibly sharp 15.6 inch FHD IPS Screen, you'll get a 1920 x 1080 resolution that viewing experience. Get it now and start working smarter, not harder and get yourself the professional portable monitor today. ✅Truly Wide Compatibility: Lets you connect your laptop, PC, MAC, tablet, phone, XBOX, PS3/PS4/PS5, switches, and more via USB-C or HDMI Port-- deliver a stable connection and steady data transmission. Enjoy great sound with the built-in dual stereo speakers, perfect for your business trip, travel, or home entertainment gaming setup. ✅Durable&Smart Cover: VILVA portable monitor has a high quality and durable metal material, which makes it shows a fine metal texture and high strength. Has magnetic leather smart cover that provides protection for the entire screen and easy to stand the portable monitor. ✅Look no further!: Get this portable monitor, complete with magnetic cover, USB-C to USB-C cable, Mini HDMI to HDMI cable, USB-A to USB-C cable, and USB-A power block now.\",\n",
       "  \"JTEMAN Wireless Bluetooth Speaker Tablet Stand, Adjustable with Bluetooth Speakers,Gifts for Women Men,Kitchen Gadget for Men,Compatible with Phones and Tablet (4.0-12.9'') - Graphite 【Novel designs 3 in 1 Multi-function Tablet Stand】 The Tablet Stand for desk is not a simple Tablet Stand,it is with Bluetooth speakers and a phone charging station.When using iPad for study,watching movie or listening music ,the Tablet Stand can be used both as a stand and as a Bluetooth speakers.The charging station of stand can charge your iPad and other devices,such as phone,kindle and e-readers when the Tablet Stand connected the power,it will be a cool gadgets for you. 【Higher Quality Louder Volume】Jteman Bluetooth Speakers with Tablet Stand,Built-in Dual Speakers let the Volume more louder but not noisy,giving you impressive stereo sound when you enjoying music and movie.Tablet Stand built-in microphone design for hands-free calling,can take a clear sound from the speake. 【Sturdy Anti-Slip Design】Anti-slip pad under the tablet stand protects your tablet and it is more stable, you can tap and slide your ipad screen as much as you want and draw.The stand can be extended up to 7.6 inches, suitable for large size tablets, even if you place the tablet in a vertical orientation, it does not wobble and is very stable.The unique hollow design of the stand hook will not block the sound, so that the sound of the device can be transmitted unimpeded. 【Foldable and Adjustable Angle】Adjustable Tablet Stand support vertical and horizontal viewing,It brings convenience to our daily life. It can freely adjust the comfortable viewing angle when reading, drawing, watching movies,playing game and video calls.Moreover,this kitchen gadgets can release your hands to watching cookery show while cooking.A comfortable viewing angle will relax your shoulders and neck, even if you use the tablet for a long time, let you not feeling tired. 【Universal Compatibility】Tablet stand fit for 4 to 13inch phones/tablets/E-reader and the thickness of device with case within 0.55in.Compatible with iPad Pro/iPad Air/iPad mini/Smartphone/E-readers.Tablet stand with Bluetooth speakers is the best birthday gifts for your friends,lover,parents and everybody.For the elderly people it will make it easier for them to listen news,music and take video calls in louder voulme,is also good for youth to watch movies and take online course.\",\n",
       "  \"Kids Tablet, 7 inch Tablet for Kids 3GB RAM 32GB ROM, Android 11 Toddler Tablet with WiFi, Bluetooth, GMS, Parental Control, Shockproof Case, Google Play, YouTube, Netflix 【iWawa APP with parental control】This kids tablet has passed the GMS certification and is pre-installed with the iwawa app, specially designed for children. It has password control, remote video control, one-button lock screen and Learning, art, smart games. New-upgrade kids online school, fun interaction, video playback 【Android 11.0 & 128 GB Expand】Android 11.0 operating system, 3GB RAM 32GB ROM, support WiFi, Bluetooth, GPS, etc. The HD 1024*600IPS display can offer a perfect experience, You can expand the storage to 128 GB of SD cards for storing photos, music and videos. The upgraded battery can last more than 6 hours, suitable for long-distance flights or road trips, Appropriate Age Grade Over 3 years old kids 【Kids Tablet with Case】The sturdy tablet case can protects your kids tablet. A colorful handle and a adjustable stand on the back of case allows toddlers to go hands-free while learning, watching and playing games, don't need to hold 【Ideal gift for Kids】You can download different apps from the Google Play store, such as ABCMouse, HULU, YouTube Kids, Netflix, Zoom. Kids can explore the new-world, search for new-knowledge. The toddler tablet is an ideal gift for birthday, Christmas, holiday season for kids. Help your child develop in an all-around way 【5-year Warranty】Our kids tablet offers a 5-year warranty and Lifetime customer service, we will answer your any questions within 24 hours. Package includes：1 x Tablet PC, 1 x Protective Silicone Case, 1 x screen protector , 1 x OTG cable, 1 x Data Cable, 1 x User Manual\",\n",
       "  'iFongsh Tablet Stand for Desk, 2-in-1 Ipad Holder Stand & Phone Stand,360 Degree Rotating Gooseneck and Height Adjustable Desktop Holder Dock Compatible with(4.7\"-13\") iPhone,iPad Pro,Air,Mini,Kindle Widely Compatible tablet floor stand - iFongsh ipad stand adds an innovative trench design to the base,This 2 in1 phone stand and ipad holder stand which can place a mobile phone and an ipad on it at the same time.iFongsh tablet stand suitable for all 4-13 inch cell phones and tablets, including new iPad Pro 12.9”, 10.9”, 10.2”, Air Mini 4 3 2, Fire Tablet,Samsung Tablet, Tab, Nexus, Kindle, E-reader, Switch, etc. No need to remove the tablet or phone case while using. 360° Rotation & Height Ajustable Ipad Stand - The gooseneck 360° rotation ipad stand holder made of metal spring can be adjusted and stretched casually.Height adjustable desktop holder dock can be easily adjusted from 10” to 22.8” to meet your various visual need. Free your hands with this ipad stand, reduces neck pain when lying prone or on your back relaxing.2-in-1 tablet and phone integrated stand perfect for watching videos, reading, drawing, yoga, classes, live, multi-screen interaction, etc. Never Fall Tablet Holder- The upgraded tablet stand designed by weighted and thickened round all-metal base (diameter 16cm）and comes with the EVA anti slip pad （thickness 7mm), the sturdy extension arm can bear capacity more than 3KG.With this tablet holder you can never have to worry about your device being dropped and damaged. Easy Operation & Broad Usage Place - Our phone stand is designed to be assembled simply by twisting each joint. No screws and no worries about missing. iFongsh tablet stand is your first choice for work and entertainment, You can use this 2-in-1 tablet and cell phone stand in your office, living room, bedroom, kitchen, classroom, outdoor, etc. Aftersales Service - This iFongsh ipad stand for desk comes with lifetime free technical support. If you have any questions about this tablet stand holder , please feel free to contact us.',\n",
       "  'ULANZI T2 Adjustable Tablet Holder for Desk, Carbon Steel Tablet Stand for Bed, Flexible Tablet Arm Clamp Compatible with iPad Pro, iPad Air, iPad Mini, Galaxy Tab, iPhone & 4.6-12.9 Inch Devices ▶【Great for Reading & Watching】Aiming to avoid neck and joints pain due to prolong tablet usage, we design this long arm clamp-based tablet holder. It can grip the tablet and phone sturdily with many viewing angles and work as a good partner for tablets on various occasions, like watching movies, having face time for video calls, reading with the iPad, viewing recipes while cooking in the kitchen. ▶【Premium Material】This tablet holder is well-engineered with innovative carbon steel arm design, considerate rubber padding, and rigid plastic holder that grip any devices of 4.6\" to 12.9\" very tightly. Unlike to traditional gooseneck of slow fall of the tablet, this iPad holder can bear 2 kg devices and won\\'t be loosening or shaking after long use. ▶【High Flexibility】With 2-section carbon steel arms and 360-degree rotating tablet holder, you can use it at multiple angles. Bend the arm and turn the holder to the most comfortable viewing position whether you\\'re sitting, standing or lying down, it will make you cozy and protect you from neck and shoulder pain. ▶【Easy Installation】No tools needed, it can be widely settled to bed board, cabinet, table, bookcase, or any surface up to 40mm thick. The clamp base features screw locking structure, combined with EVA non-slip rubber pads, not only scratch-proof protection of furniture, but also to obtain a stronger grip. In addition, it has cable management design which is convenient to charge the device and keep table neat. ▶【Wide Compatibility】 Universally compatible with devices between 4.6 inch and 12.9 inch. This iPad stand is perfect for mounting iPad Pro 12.9, 9.7 10.5, iPad Air, iPad Mini 6 4 3, Galaxy Tab, Surface Pro, iPhone 13, and other devices that from 4\"-12.9\".',\n",
       "  'comiso Cell Phone Stand with Wireless Bluetooth Speaker, Punchy Bass & HD Stereo Sound Speaker for Home & Outdoors Compatible with iPhone/ipad/Samsung, Unique Ideal Gifts for Men Women-Black ♫【 AMAZING STEREO SOUND 】- COMISO Bluetooth Speaker is equipped with a full range 5W drivers, which perfectly realizes enhanced bass, accurate mids and clear highs sound, which great suitable for listening to music & watching movies. ♫【 PREFERRED GIFTS FOR MEN & WOMEN WHO HAVE EVERYTHING 】 - Phone Stand with Wireless Bluetooth Speaker provide you with adjustable viewing angle and louder voice. Idea cool phone gadget gift for your family and friends great for mother\\'s day, Father’s day, Christmas, Birthday, Anniversary or any other special holidays. ♫【 BLUETOOTH 5.1 SPEAKER with HOLDER 】 - A new generation of Bluetooth 5.1, has lower power consumption, faster transmission and more stable signal without any delay. This portable wireless speaker is compatible with multiple bluetooth devices. Wireless speaker with microphone makes taking & making calls a breeze. ♫【 FOLDABLE & PORTABLE PHONE STAND 】 - The universal adjustable phone stand speaker can be titled to vertical, It allows you to get a more comfortable viewing angle. Reduce the frequency of looking down at the phone screen to avoid hurting your back and neck. Makes you hands-free to enjoy your games, videos and Facetime. ♫ 【 STABLE and WIDE COMPATIBILITY 】 - This cell phone holder for desk is equipped with a weighted base. Therefore, this phone stand holder with speaker is stable enough to support all 4\"-12\" smartphones or tablets. Compatible with Apple, iPhone, Samsung phone, Kindel, Switch, iPad Mini, iPad Air, and other 4\"-12\" tablets etc. And its non-slip rubber pad prevents your device from accidentally slipping. ♫【 TRUE WIRELESS & HD SURROUND SOUND 】 - 360-degree surround sound can easily fill up your room. WHAT YOU GET - X8 Phone Stand with Speaker, USB Type-C charging cable, Instruction manual, 12-month warranty card.',\n",
       "  'LENRUE Bluetooth Speakers, Waterproof Portable Speakers with TWS, 24 Playtime, Stereo Sound, Wireless for Home Shower Pool Beach Outdoor ✅ ♫Loud and Crisp Sound - Upgrade 2 high quality horns, plays very clear and it can get very loud. Wthout any distortion and noise. ✅ ♫IPX6 Waterproof - Portable bluetooth speakers updates IPX6 waterproof and dustproof, portable for shower, pool, beach. The speaker cannot be completely immersed in water. ✅ ♫Portable & Hanging - Equipped with a detachable lanyard, the portable speaker can be hung on bicycles, motorcycles, backpacks, and tents. The speaker is an ideal gift. ✅ ♫Wireless Stereo Pairing - Bluetooth speakers perform powerful surround sound by connecting 2 speakers together. ✅ ♫ Multi Play Way - Wireless speakers adopt seamless Bluetooth 5.0. Support TF and AUX. Portable for phones, tablets, laptops.',\n",
       "  'Ambison [2-Pack Matte Glass Screen Protector Compatible with Samsung Galaxy Tab A8 (10.5 inch 2022 Released), Anti-Glare & Fingerprints/Tempered Glass/Bubble Free, Tablet A8 Model-SM-X200/X205/X207 Anti-Glare & Fingerprint: galaxy tab a8 screen protector, slight matte finish engineered to reduce glare and fingerprints. Reading in strong sunlight, outdoors or in light, is not dazzling, enjoy reduced reflections and an anti-glare experience without spoiling your view. The oleophobic surface effectively prevents fingerprints and stains, providing a clean screen environment for your Samsung Galaxy Tab A8. Scratch Resistant: The galaxy tab a8 matte glass screen protectors are made of 9H tempered glass, effectively protects your Samsung Galaxy Tab A8, reducing the chance of screen breakage, effectively protects your tablet A8 from key and knife scratches. Easy installation: This galaxy tab a8 screen protector matte is easy to install, the smooth matte screen protector adhered seamlessly to the screen with no bubbles. Make sure you get rid of dusts before you install. Any questions about installation or use, please contact us without any hesitation. Matte Glass Surface: The perfect galaxy tab a8 screen protector matte surface only 0.3mm thickness has the silk-like touch feeling and maintains high sensitivity response on screen operation, case friendly designed. Easy to pokemon go or flick operation, \"Comfortable Game Operation\". 100% touch accurate sensing. Not Wear Down the S Pencil Nib: galaxy tab a8 matte glass screen protector is compatible with Samsung Galaxy Tab A8 10.5inch 2022 released(Model: SM-X200/X205/X207). Galaxy tab a8 screen protector matte is compatible with S-Pen. It is not like writing on paper, but it is much better than writing on smooth and smooth glass. Compared with Paper feel, matte glass screen protector can minimizes the wear and tear on your pencil tips.',\n",
       "  \"Missnine Tote Bag Canvas Laptop Bag 15.6 inch Briefcase for Women Large Capacity Handbag for Office, School, Travel Canvas+Pu Leather Imported Polyester lining Zipper closure Large Capacity: The roomy structure can accommodate your work and life requirements. Spacious compartment with a padded laptop section for better protection of a 15.6'' computer and a tablet slot for a 10.9'' iPad, keep your tech product well-organized Multi-pockets: 8 pockets keeping all your items organized and within reach. Convenient exterior front pocket that is easy to access for your essentials. Main pocket with a zipper closure for extra safety, 1 interior zipper pocket, 2 open pockets and 2 pen slots for your necessities Durable & Sturdy: The water-resistant canvas fabric, decorated with PU leather, prevents it from getting wet on rainy days. 4 rivets on the bottom can effectively stabilize your items to protect the base from damage and against accidental impacts. Stylish & Practical: Carry the fashionable briefcase with the comfortable detachable strap, making it versatile as a shoulder bag, or a crossbody bag, which remains chic through all seasons. The exquisite metal hardware and prints keep the laptop bag elegant and professional. Gorgeous gift: The tote bag for women fits all kinds of occasions, and matches all styles of outfits. A great gift for your family, lover, friends, and yourself.\"],\n",
       " 'retrieved_context_ratings': [3.6,\n",
       "  4.5,\n",
       "  4.6,\n",
       "  4.5,\n",
       "  4.2,\n",
       "  4.7,\n",
       "  4.4,\n",
       "  4.6,\n",
       "  4.4,\n",
       "  4.3,\n",
       "  4.7,\n",
       "  4.8,\n",
       "  4.5,\n",
       "  3.7,\n",
       "  4.3,\n",
       "  4.1,\n",
       "  4.6,\n",
       "  4.5,\n",
       "  4.5,\n",
       "  4.6],\n",
       " 'similarity_scores': [0.625,\n",
       "  0.5833333,\n",
       "  0.42424244,\n",
       "  0.33333334,\n",
       "  0.32142857,\n",
       "  0.3026316,\n",
       "  0.25555557,\n",
       "  0.25,\n",
       "  0.22916667,\n",
       "  0.1904762,\n",
       "  0.16993465,\n",
       "  0.16666667,\n",
       "  0.16025642,\n",
       "  0.15555556,\n",
       "  0.14358975,\n",
       "  0.14354068,\n",
       "  0.14285715,\n",
       "  0.125,\n",
       "  0.11111111,\n",
       "  0.1]}"
      ]
     },
     "execution_count": 7,
     "metadata": {},
     "output_type": "execute_result"
    }
   ],
   "source": [
    "results"
   ]
  },
  {
   "cell_type": "markdown",
   "id": "16e57358",
   "metadata": {},
   "source": [
    "#### Reranking"
   ]
  },
  {
   "cell_type": "code",
   "execution_count": 8,
   "id": "5815584b",
   "metadata": {},
   "outputs": [],
   "source": [
    "cohere_client = cohere.ClientV2()"
   ]
  },
  {
   "cell_type": "code",
   "execution_count": 9,
   "id": "e948ebf9",
   "metadata": {},
   "outputs": [],
   "source": [
    "to_rerank = results[\"retrieved_context\"]"
   ]
  },
  {
   "cell_type": "code",
   "execution_count": 10,
   "id": "e35bb786",
   "metadata": {},
   "outputs": [
    {
     "ename": "UnauthorizedError",
     "evalue": "headers: {'cache-control': 'no-cache, no-store, no-transform, must-revalidate, private, max-age=0', 'content-encoding': 'gzip', 'content-type': 'application/json', 'expires': 'Thu, 01 Jan 1970 00:00:00 GMT', 'pragma': 'no-cache', 'vary': 'Origin,Accept-Encoding', 'x-accel-expires': '0', 'date': 'Wed, 22 Oct 2025 02:55:25 GMT', 'x-envoy-upstream-service-time': '2', 'server': 'envoy', 'via': '1.1 google', 'alt-svc': 'h3=\":443\"; ma=2592000,h3-29=\":443\"; ma=2592000', 'transfer-encoding': 'chunked'}, status_code: 401, body: {'id': '3e4f27f5-5f68-45f9-92c7-1fc46de87d05', 'message': 'invalid api token'}",
     "output_type": "error",
     "traceback": [
      "\u001b[31m---------------------------------------------------------------------------\u001b[39m",
      "\u001b[31mUnauthorizedError\u001b[39m                         Traceback (most recent call last)",
      "\u001b[36mCell\u001b[39m\u001b[36m \u001b[39m\u001b[32mIn[10]\u001b[39m\u001b[32m, line 1\u001b[39m\n\u001b[32m----> \u001b[39m\u001b[32m1\u001b[39m response = \u001b[43mcohere_client\u001b[49m\u001b[43m.\u001b[49m\u001b[43mrerank\u001b[49m\u001b[43m(\u001b[49m\n\u001b[32m      2\u001b[39m \u001b[43m    \u001b[49m\u001b[43mmodel\u001b[49m\u001b[43m=\u001b[49m\u001b[33;43m\"\u001b[39;49m\u001b[33;43mrerank-v3.5\u001b[39;49m\u001b[33;43m\"\u001b[39;49m\u001b[43m,\u001b[49m\n\u001b[32m      3\u001b[39m \u001b[43m    \u001b[49m\u001b[43mquery\u001b[49m\u001b[43m=\u001b[49m\u001b[43mquery\u001b[49m\u001b[43m,\u001b[49m\n\u001b[32m      4\u001b[39m \u001b[43m    \u001b[49m\u001b[43mdocuments\u001b[49m\u001b[43m=\u001b[49m\u001b[43mto_rerank\u001b[49m\u001b[43m,\u001b[49m\n\u001b[32m      5\u001b[39m \u001b[43m    \u001b[49m\u001b[43mtop_n\u001b[49m\u001b[43m=\u001b[49m\u001b[32;43m20\u001b[39;49m\n\u001b[32m      6\u001b[39m \u001b[43m)\u001b[49m\n",
      "\u001b[36mFile \u001b[39m\u001b[32m~/code/ai_bootcamp/.venv/lib/python3.12/site-packages/cohere/v2/client.py:541\u001b[39m, in \u001b[36mV2Client.rerank\u001b[39m\u001b[34m(self, model, query, documents, top_n, max_tokens_per_doc, request_options)\u001b[39m\n\u001b[32m    477\u001b[39m \u001b[38;5;28;01mdef\u001b[39;00m\u001b[38;5;250m \u001b[39m\u001b[34mrerank\u001b[39m(\n\u001b[32m    478\u001b[39m     \u001b[38;5;28mself\u001b[39m,\n\u001b[32m    479\u001b[39m     *,\n\u001b[32m   (...)\u001b[39m\u001b[32m    485\u001b[39m     request_options: typing.Optional[RequestOptions] = \u001b[38;5;28;01mNone\u001b[39;00m,\n\u001b[32m    486\u001b[39m ) -> V2RerankResponse:\n\u001b[32m    487\u001b[39m \u001b[38;5;250m    \u001b[39m\u001b[33;03m\"\"\"\u001b[39;00m\n\u001b[32m    488\u001b[39m \u001b[33;03m    This endpoint takes in a query and a list of texts and produces an ordered array with each text assigned a relevance score.\u001b[39;00m\n\u001b[32m    489\u001b[39m \n\u001b[32m   (...)\u001b[39m\u001b[32m    539\u001b[39m \u001b[33;03m    )\u001b[39;00m\n\u001b[32m    540\u001b[39m \u001b[33;03m    \"\"\"\u001b[39;00m\n\u001b[32m--> \u001b[39m\u001b[32m541\u001b[39m     _response = \u001b[38;5;28;43mself\u001b[39;49m\u001b[43m.\u001b[49m\u001b[43m_raw_client\u001b[49m\u001b[43m.\u001b[49m\u001b[43mrerank\u001b[49m\u001b[43m(\u001b[49m\n\u001b[32m    542\u001b[39m \u001b[43m        \u001b[49m\u001b[43mmodel\u001b[49m\u001b[43m=\u001b[49m\u001b[43mmodel\u001b[49m\u001b[43m,\u001b[49m\n\u001b[32m    543\u001b[39m \u001b[43m        \u001b[49m\u001b[43mquery\u001b[49m\u001b[43m=\u001b[49m\u001b[43mquery\u001b[49m\u001b[43m,\u001b[49m\n\u001b[32m    544\u001b[39m \u001b[43m        \u001b[49m\u001b[43mdocuments\u001b[49m\u001b[43m=\u001b[49m\u001b[43mdocuments\u001b[49m\u001b[43m,\u001b[49m\n\u001b[32m    545\u001b[39m \u001b[43m        \u001b[49m\u001b[43mtop_n\u001b[49m\u001b[43m=\u001b[49m\u001b[43mtop_n\u001b[49m\u001b[43m,\u001b[49m\n\u001b[32m    546\u001b[39m \u001b[43m        \u001b[49m\u001b[43mmax_tokens_per_doc\u001b[49m\u001b[43m=\u001b[49m\u001b[43mmax_tokens_per_doc\u001b[49m\u001b[43m,\u001b[49m\n\u001b[32m    547\u001b[39m \u001b[43m        \u001b[49m\u001b[43mrequest_options\u001b[49m\u001b[43m=\u001b[49m\u001b[43mrequest_options\u001b[49m\u001b[43m,\u001b[49m\n\u001b[32m    548\u001b[39m \u001b[43m    \u001b[49m\u001b[43m)\u001b[49m\n\u001b[32m    549\u001b[39m     \u001b[38;5;28;01mreturn\u001b[39;00m _response.data\n",
      "\u001b[36mFile \u001b[39m\u001b[32m~/code/ai_bootcamp/.venv/lib/python3.12/site-packages/cohere/v2/raw_client.py:1021\u001b[39m, in \u001b[36mRawV2Client.rerank\u001b[39m\u001b[34m(self, model, query, documents, top_n, max_tokens_per_doc, request_options)\u001b[39m\n\u001b[32m   1010\u001b[39m     \u001b[38;5;28;01mraise\u001b[39;00m BadRequestError(\n\u001b[32m   1011\u001b[39m         headers=\u001b[38;5;28mdict\u001b[39m(_response.headers),\n\u001b[32m   1012\u001b[39m         body=typing.cast(\n\u001b[32m   (...)\u001b[39m\u001b[32m   1018\u001b[39m         ),\n\u001b[32m   1019\u001b[39m     )\n\u001b[32m   1020\u001b[39m \u001b[38;5;28;01mif\u001b[39;00m _response.status_code == \u001b[32m401\u001b[39m:\n\u001b[32m-> \u001b[39m\u001b[32m1021\u001b[39m     \u001b[38;5;28;01mraise\u001b[39;00m UnauthorizedError(\n\u001b[32m   1022\u001b[39m         headers=\u001b[38;5;28mdict\u001b[39m(_response.headers),\n\u001b[32m   1023\u001b[39m         body=typing.cast(\n\u001b[32m   1024\u001b[39m             typing.Optional[typing.Any],\n\u001b[32m   1025\u001b[39m             construct_type(\n\u001b[32m   1026\u001b[39m                 type_=typing.Optional[typing.Any],  \u001b[38;5;66;03m# type: ignore\u001b[39;00m\n\u001b[32m   1027\u001b[39m                 object_=_response.json(),\n\u001b[32m   1028\u001b[39m             ),\n\u001b[32m   1029\u001b[39m         ),\n\u001b[32m   1030\u001b[39m     )\n\u001b[32m   1031\u001b[39m \u001b[38;5;28;01mif\u001b[39;00m _response.status_code == \u001b[32m403\u001b[39m:\n\u001b[32m   1032\u001b[39m     \u001b[38;5;28;01mraise\u001b[39;00m ForbiddenError(\n\u001b[32m   1033\u001b[39m         headers=\u001b[38;5;28mdict\u001b[39m(_response.headers),\n\u001b[32m   1034\u001b[39m         body=typing.cast(\n\u001b[32m   (...)\u001b[39m\u001b[32m   1040\u001b[39m         ),\n\u001b[32m   1041\u001b[39m     )\n",
      "\u001b[31mUnauthorizedError\u001b[39m: headers: {'cache-control': 'no-cache, no-store, no-transform, must-revalidate, private, max-age=0', 'content-encoding': 'gzip', 'content-type': 'application/json', 'expires': 'Thu, 01 Jan 1970 00:00:00 GMT', 'pragma': 'no-cache', 'vary': 'Origin,Accept-Encoding', 'x-accel-expires': '0', 'date': 'Wed, 22 Oct 2025 02:55:25 GMT', 'x-envoy-upstream-service-time': '2', 'server': 'envoy', 'via': '1.1 google', 'alt-svc': 'h3=\":443\"; ma=2592000,h3-29=\":443\"; ma=2592000', 'transfer-encoding': 'chunked'}, status_code: 401, body: {'id': '3e4f27f5-5f68-45f9-92c7-1fc46de87d05', 'message': 'invalid api token'}"
     ]
    }
   ],
   "source": [
    "response = cohere_client.rerank(\n",
    "    model=\"rerank-v3.5\",\n",
    "    query=query,\n",
    "    documents=to_rerank,\n",
    "    top_n=20\n",
    ")"
   ]
  },
  {
   "cell_type": "code",
   "execution_count": null,
   "id": "17cd498d",
   "metadata": {},
   "outputs": [],
   "source": [
    "response"
   ]
  },
  {
   "cell_type": "code",
   "execution_count": null,
   "id": "1badb45b",
   "metadata": {},
   "outputs": [],
   "source": [
    "reranked_results = [to_rerank[results.index] for results in response.results]"
   ]
  },
  {
   "cell_type": "code",
   "execution_count": null,
   "id": "85bda619",
   "metadata": {},
   "outputs": [],
   "source": [
    "results[\"retrieved_context\"]"
   ]
  },
  {
   "cell_type": "code",
   "execution_count": null,
   "id": "47503efe",
   "metadata": {},
   "outputs": [],
   "source": [
    "reranked_results"
   ]
  },
  {
   "cell_type": "code",
   "execution_count": null,
   "id": "742572de",
   "metadata": {},
   "outputs": [],
   "source": []
  }
 ],
 "metadata": {
  "kernelspec": {
   "display_name": ".venv",
   "language": "python",
   "name": "python3"
  },
  "language_info": {
   "codemirror_mode": {
    "name": "ipython",
    "version": 3
   },
   "file_extension": ".py",
   "mimetype": "text/x-python",
   "name": "python",
   "nbconvert_exporter": "python",
   "pygments_lexer": "ipython3",
   "version": "3.12.7"
  }
 },
 "nbformat": 4,
 "nbformat_minor": 5
}
