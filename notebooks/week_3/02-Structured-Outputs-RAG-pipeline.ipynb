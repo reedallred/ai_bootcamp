{
 "cells": [
  {
   "cell_type": "markdown",
   "id": "0a869af9",
   "metadata": {
    "vscode": {
     "languageId": "plaintext"
    }
   },
   "source": [
    "#### Import Dependencies"
   ]
  },
  {
   "cell_type": "code",
   "execution_count": null,
   "id": "a2d82c4e",
   "metadata": {},
   "outputs": [],
   "source": [
    "import openai\n",
    "import instructor\n",
    "from qdrant_client import QdrantClient\n",
    "\n",
    "from pydantic import BaseModel, Field"
   ]
  },
  {
   "cell_type": "markdown",
   "id": "85e8dce5",
   "metadata": {},
   "source": [
    "#### RAG Pipeline"
   ]
  },
  {
   "cell_type": "code",
   "execution_count": null,
   "id": "dcb2aec9",
   "metadata": {},
   "outputs": [],
   "source": [
    "qdrant_client = QdrantClient(url=\"http://localhost:6333\")"
   ]
  },
  {
   "cell_type": "code",
   "execution_count": null,
   "id": "ddf17c34",
   "metadata": {},
   "outputs": [],
   "source": [
    "class RAGGenerationResponse(BaseModel):\n",
    "    answer: str = Field(description=\"Answer to the question.\")"
   ]
  },
  {
   "cell_type": "code",
   "execution_count": null,
   "id": "9125a81e",
   "metadata": {},
   "outputs": [],
   "source": [
    "def get_embedding(text, model=\"text-embedding-3-small\"):\n",
    "    response = openai.embeddings.create(\n",
    "        input=text,\n",
    "        model=model,\n",
    "    )\n",
    "\n",
    "    return response.data[0].embedding\n",
    "\n",
    "\n",
    "def retrieve_data(query, qdrant_client, k=5):\n",
    "\n",
    "    query_embedding = get_embedding(query)\n",
    "\n",
    "    results = qdrant_client.query_points(\n",
    "        collection_name=\"Amazon-items-collection-00\",\n",
    "        query=query_embedding,\n",
    "        limit=k,\n",
    "    )\n",
    "\n",
    "    retrieved_context_ids = []\n",
    "    retrieved_context = []\n",
    "    retrieved_context_ratings = []\n",
    "    similarity_scores = []\n",
    "\n",
    "    for result in results.points:\n",
    "        retrieved_context_ids.append(result.payload[\"parent_asin\"])\n",
    "        retrieved_context.append(result.payload[\"description\"])\n",
    "        retrieved_context_ratings.append(result.payload[\"average_rating\"])\n",
    "        similarity_scores.append(result.score)\n",
    "\n",
    "    return {\n",
    "        \"retrieved_context_ids\": retrieved_context_ids,\n",
    "        \"retrieved_context\": retrieved_context,\n",
    "        \"retrieved_context_ratings\": retrieved_context_ratings,\n",
    "        \"similarity_scores\": similarity_scores,\n",
    "    }\n",
    "\n",
    "\n",
    "def process_context(context):\n",
    "\n",
    "    formatted_context = \"\"\n",
    "\n",
    "    for id, chunk, rating in zip(context[\"retrieved_context_ids\"], context[\"retrieved_context\"], context[\"retrieved_context_ratings\"]):\n",
    "        formatted_context += f\"- ID: {id}, rating: {rating}, description: {chunk}\\n\"\n",
    "\n",
    "    return formatted_context\n",
    "\n",
    "\n",
    "def build_prompt(preprocessed_context, question):\n",
    "\n",
    "    prompt = f\"\"\"\n",
    "You are a shopping assistant that can answer questions about the products in stock.\n",
    "\n",
    "You will be given a question and a list of context.\n",
    "\n",
    "Instructtions:\n",
    "- You need to answer the question based on the provided context only.\n",
    "- Never use word context and refer to it as the available products.\n",
    "\n",
    "- The answer to the question should contain detailed information about the product and returned with detailed specification in bullet points.\n",
    "\n",
    "Context:\n",
    "{preprocessed_context}\n",
    "\n",
    "Question:\n",
    "{question}\n",
    "\"\"\"\n",
    "\n",
    "    return prompt\n",
    "\n",
    "def generate_answer(prompt):\n",
    "\n",
    "    client = instructor.from_openai(openai.OpenAI())\n",
    "\n",
    "    response, raw_response = client.chat.completions.create_with_completion(\n",
    "        model=\"gpt-4.1-mini\",\n",
    "        messages=[{\"role\": \"system\", \"content\": prompt}],\n",
    "        temperature=0.5,\n",
    "        response_model=RAGGenerationResponse\n",
    "    )\n",
    "\n",
    "    return response\n",
    "\n",
    "\n",
    "def rag_pipeline(question, qdrant_client, top_k=5):\n",
    "\n",
    "    retrieved_context = retrieve_data(question, qdrant_client, top_k)\n",
    "    preprocessed_context = process_context(retrieved_context)\n",
    "    prompt = build_prompt(preprocessed_context, question)\n",
    "    answer = generate_answer(prompt)\n",
    "\n",
    "    final_result = {\n",
    "        \"answer\": answer.answer,\n",
    "        \"question\": question,\n",
    "        \"retrieved_context_ids\": retrieved_context[\"retrieved_context_ids\"],\n",
    "        \"retrieved_context\": retrieved_context[\"retrieved_context\"],\n",
    "        \"similarity_scores\": retrieved_context[\"similarity_scores\"]\n",
    "    }\n",
    "\n",
    "    return final_result"
   ]
  },
  {
   "cell_type": "code",
   "execution_count": null,
   "id": "09bb8a60",
   "metadata": {},
   "outputs": [],
   "source": [
    "result = rag_pipeline(\"Can I get some earphones?\", qdrant_client, top_k=10)"
   ]
  },
  {
   "cell_type": "code",
   "execution_count": null,
   "id": "b711a2e1",
   "metadata": {},
   "outputs": [],
   "source": [
    "result"
   ]
  },
  {
   "cell_type": "code",
   "execution_count": null,
   "id": "56bd9197",
   "metadata": {},
   "outputs": [],
   "source": [
    "print(result[\"answer\"])"
   ]
  },
  {
   "cell_type": "markdown",
   "id": "4acc5b7a",
   "metadata": {},
   "source": [
    "#### RAG Pipeline with Grounding Context"
   ]
  },
  {
   "cell_type": "code",
   "execution_count": null,
   "id": "c7797be7",
   "metadata": {},
   "outputs": [],
   "source": [
    "class RAGUsedContext(BaseModel):\n",
    "    id: str = Field(description=\"ID of the item used to answer the question.\")\n",
    "    description: str = Field(description=\"Short description of the item used to answer the question.\")\n",
    "\n",
    "class RAGGenerationResponseWithReferences(BaseModel):\n",
    "    answer: str = Field(description=\"Answer to the question.\")\n",
    "    references: list[RAGUsedContext] = Field(description=\"List of items used to answer the question.\")"
   ]
  },
  {
   "cell_type": "code",
   "execution_count": null,
   "id": "ee3e1377",
   "metadata": {},
   "outputs": [],
   "source": [
    "def get_embedding(text, model=\"text-embedding-3-small\"):\n",
    "    response = openai.embeddings.create(\n",
    "        input=text,\n",
    "        model=model,\n",
    "    )\n",
    "\n",
    "    return response.data[0].embedding\n",
    "\n",
    "\n",
    "def retrieve_data(query, qdrant_client, k=5):\n",
    "\n",
    "    query_embedding = get_embedding(query)\n",
    "\n",
    "    results = qdrant_client.query_points(\n",
    "        collection_name=\"Amazon-items-collection-00\",\n",
    "        query=query_embedding,\n",
    "        limit=k,\n",
    "    )\n",
    "\n",
    "    retrieved_context_ids = []\n",
    "    retrieved_context = []\n",
    "    retrieved_context_ratings = []\n",
    "    similarity_scores = []\n",
    "\n",
    "    for result in results.points:\n",
    "        retrieved_context_ids.append(result.payload[\"parent_asin\"])\n",
    "        retrieved_context.append(result.payload[\"description\"])\n",
    "        retrieved_context_ratings.append(result.payload[\"average_rating\"])\n",
    "        similarity_scores.append(result.score)\n",
    "\n",
    "    return {\n",
    "        \"retrieved_context_ids\": retrieved_context_ids,\n",
    "        \"retrieved_context\": retrieved_context,\n",
    "        \"retrieved_context_ratings\": retrieved_context_ratings,\n",
    "        \"similarity_scores\": similarity_scores,\n",
    "    }\n",
    "\n",
    "\n",
    "def process_context(context):\n",
    "\n",
    "    formatted_context = \"\"\n",
    "\n",
    "    for id, chunk, rating in zip(context[\"retrieved_context_ids\"], context[\"retrieved_context\"], context[\"retrieved_context_ratings\"]):\n",
    "        formatted_context += f\"- ID: {id}, rating: {rating}, description: {chunk}\\n\"\n",
    "\n",
    "    return formatted_context\n",
    "\n",
    "\n",
    "def build_prompt(preprocessed_context, question):\n",
    "\n",
    "    prompt = f\"\"\"\n",
    "You are a shopping assistant that can answer questions about the products in stock.\n",
    "\n",
    "You will be given a question and a list of context.\n",
    "\n",
    "Instructtions:\n",
    "- You need to answer the question based on the provided context only.\n",
    "- Never use word context and refer to it as the available products.\n",
    "- As an output you need to provide:\n",
    "\n",
    "* The answer to the question based on the provided context.\n",
    "* The list of the IDs of the chunks that were used to answer the question. Only return the ones that are used in the answer.\n",
    "* Short description (1-2 sentences) of the item based on the description provided in the context.\n",
    "\n",
    "- The short description should have the name of the item.\n",
    "- The answer to the question should contain detailed information about the product and returned with detailed specification in bullet points.\n",
    "\n",
    "Context:\n",
    "{preprocessed_context}\n",
    "\n",
    "Question:\n",
    "{question}\n",
    "\"\"\"\n",
    "\n",
    "    return prompt\n",
    "\n",
    "def generate_answer(prompt):\n",
    "\n",
    "    client = instructor.from_openai(openai.OpenAI())\n",
    "\n",
    "    response, raw_response = client.chat.completions.create_with_completion(\n",
    "        model=\"gpt-4.1-mini\",\n",
    "        messages=[{\"role\": \"system\", \"content\": prompt}],\n",
    "        temperature=0.5,\n",
    "        response_model=RAGGenerationResponseWithReferences\n",
    "    )\n",
    "\n",
    "    return response\n",
    "\n",
    "\n",
    "def rag_pipeline(question, qdrant_client, top_k=5):\n",
    "\n",
    "    retrieved_context = retrieve_data(question, qdrant_client, top_k)\n",
    "    preprocessed_context = process_context(retrieved_context)\n",
    "    prompt = build_prompt(preprocessed_context, question)\n",
    "    answer = generate_answer(prompt)\n",
    "\n",
    "    final_result = {\n",
    "        \"answer\": answer.answer,\n",
    "        \"referneces\": answer.references,\n",
    "        \"question\": question,\n",
    "        \"retrieved_context_ids\": retrieved_context[\"retrieved_context_ids\"],\n",
    "        \"retrieved_context\": retrieved_context[\"retrieved_context\"],\n",
    "        \"similarity_scores\": retrieved_context[\"similarity_scores\"]\n",
    "    }\n",
    "\n",
    "    return final_result"
   ]
  },
  {
   "cell_type": "code",
   "execution_count": null,
   "id": "85a3aa6a",
   "metadata": {},
   "outputs": [],
   "source": [
    "result = rag_pipeline(\"Can I get some earphones?\", qdrant_client, top_k=10)"
   ]
  },
  {
   "cell_type": "code",
   "execution_count": null,
   "id": "0ec30fba",
   "metadata": {},
   "outputs": [],
   "source": [
    "result"
   ]
  },
  {
   "cell_type": "code",
   "execution_count": null,
   "id": "4f7489b4",
   "metadata": {},
   "outputs": [],
   "source": [
    "print(result[\"answer\"])"
   ]
  },
  {
   "cell_type": "code",
   "execution_count": null,
   "id": "8ae6c596",
   "metadata": {},
   "outputs": [],
   "source": []
  }
 ],
 "metadata": {
  "kernelspec": {
   "display_name": ".venv",
   "language": "python",
   "name": "python3"
  },
  "language_info": {
   "codemirror_mode": {
    "name": "ipython",
    "version": 3
   },
   "file_extension": ".py",
   "mimetype": "text/x-python",
   "name": "python",
   "nbconvert_exporter": "python",
   "pygments_lexer": "ipython3",
   "version": "3.12.8"
  }
 },
 "nbformat": 4,
 "nbformat_minor": 5
}
