{
 "cells": [
  {
   "cell_type": "code",
   "execution_count": 1,
   "id": "729cea19",
   "metadata": {},
   "outputs": [
    {
     "name": "stderr",
     "output_type": "stream",
     "text": [
      "/Users/reedallred/code/ai_bootcamp/.venv/lib/python3.12/site-packages/tqdm/auto.py:21: TqdmWarning: IProgress not found. Please update jupyter and ipywidgets. See https://ipywidgets.readthedocs.io/en/stable/user_install.html\n",
      "  from .autonotebook import tqdm as notebook_tqdm\n"
     ]
    }
   ],
   "source": [
    "import os\n",
    "import openai\n",
    "\n",
    "from langsmith import Client\n",
    "from qdrant_client import QdrantClient\n",
    "\n",
    "from langchain_openai import ChatOpenAI\n",
    "from langchain_openai import OpenAIEmbeddings\n",
    "\n",
    "from ragas.llms import LangchainLLMWrapper\n",
    "from ragas.embeddings import LangchainEmbeddingsWrapper"
   ]
  },
  {
   "cell_type": "markdown",
   "id": "155fb41f",
   "metadata": {},
   "source": [
    "### Doenload an example reference data point from LangSmith"
   ]
  },
  {
   "cell_type": "code",
   "execution_count": 2,
   "id": "e68fbd80",
   "metadata": {},
   "outputs": [],
   "source": [
    "client = Client()"
   ]
  },
  {
   "cell_type": "code",
   "execution_count": 3,
   "id": "1d9c5c12",
   "metadata": {},
   "outputs": [],
   "source": [
    "dataset = client.read_dataset(\n",
    "    dataset_name=\"rag-evaluation-dataset\"\n",
    ")"
   ]
  },
  {
   "cell_type": "code",
   "execution_count": 4,
   "id": "40959f16",
   "metadata": {},
   "outputs": [
    {
     "data": {
      "text/plain": [
       "Dataset(name='rag-evaluation-dataset', description='Dataset for evaluating RAG pipeline', data_type=<DataType.kv: 'kv'>, id=UUID('334feebb-56b4-4fea-ba89-5f0088a9779f'), created_at=datetime.datetime(2025, 10, 13, 17, 59, 54, 478077, tzinfo=datetime.timezone.utc), modified_at=datetime.datetime(2025, 10, 13, 17, 59, 54, 478077, tzinfo=datetime.timezone.utc), example_count=32, session_count=0, last_session_start_time=None, inputs_schema=None, outputs_schema=None, transformations=None, metadata={'runtime': {'sdk': 'langsmith-py', 'library': 'langsmith', 'runtime': 'python', 'platform': 'macOS-13.7.8-x86_64-i386-64bit', 'sdk_version': '0.4.34', 'runtime_version': '3.12.7', 'langchain_version': '0.3.27', 'py_implementation': 'CPython', 'langchain_core_version': '0.3.79'}})"
      ]
     },
     "execution_count": 4,
     "metadata": {},
     "output_type": "execute_result"
    }
   ],
   "source": [
    "dataset"
   ]
  },
  {
   "cell_type": "code",
   "execution_count": 5,
   "id": "63a42d04",
   "metadata": {},
   "outputs": [
    {
     "data": {
      "text/plain": [
       "{'question': 'Do you have dedicated books or e-readers in stock?'}"
      ]
     },
     "execution_count": 5,
     "metadata": {},
     "output_type": "execute_result"
    }
   ],
   "source": [
    "list(client.list_examples(dataset_id=dataset.id, limit=10))[0].inputs"
   ]
  },
  {
   "cell_type": "code",
   "execution_count": 6,
   "id": "6a309f2c",
   "metadata": {},
   "outputs": [
    {
     "data": {
      "text/plain": [
       "{'ground_truth': 'No books or e-readers are currently available in inventory.',\n",
       " 'reference_context_ids': [],\n",
       " 'reference_descriptions': []}"
      ]
     },
     "execution_count": 6,
     "metadata": {},
     "output_type": "execute_result"
    }
   ],
   "source": [
    "list(client.list_examples(dataset_id=dataset.id, limit=10))[0].outputs"
   ]
  },
  {
   "cell_type": "code",
   "execution_count": 7,
   "id": "e3f2209d",
   "metadata": {},
   "outputs": [
    {
     "data": {
      "text/plain": [
       "{'question': 'Are there any gaming consoles or game controllers available?'}"
      ]
     },
     "execution_count": 7,
     "metadata": {},
     "output_type": "execute_result"
    }
   ],
   "source": [
    "list(client.list_examples(dataset_id=dataset.id, limit=10))[3].inputs"
   ]
  },
  {
   "cell_type": "code",
   "execution_count": 8,
   "id": "40261c2a",
   "metadata": {},
   "outputs": [
    {
     "data": {
      "text/plain": [
       "{'ground_truth': 'Currently, we do not have any consoles or game controllers in stock.',\n",
       " 'reference_context_ids': [],\n",
       " 'reference_descriptions': []}"
      ]
     },
     "execution_count": 8,
     "metadata": {},
     "output_type": "execute_result"
    }
   ],
   "source": [
    "list(client.list_examples(dataset_id=dataset.id, limit=10))[3].outputs"
   ]
  },
  {
   "cell_type": "code",
   "execution_count": 9,
   "id": "284b6203",
   "metadata": {},
   "outputs": [],
   "source": [
    "reference_input = list(client.list_examples(dataset_id=dataset.id, limit=10))[3].inputs\n",
    "reference_output = list(client.list_examples(dataset_id=dataset.id, limit=10))[3].outputs"
   ]
  },
  {
   "cell_type": "markdown",
   "id": "a9b290ef",
   "metadata": {},
   "source": [
    "### RAG Pipeline"
   ]
  },
  {
   "cell_type": "code",
   "execution_count": 10,
   "id": "489993f3",
   "metadata": {},
   "outputs": [],
   "source": [
    "qdrant_client = QdrantClient(url=\"http://localhost:6333\")"
   ]
  },
  {
   "cell_type": "code",
   "execution_count": 11,
   "id": "c8fcee88",
   "metadata": {},
   "outputs": [],
   "source": [
    "def get_embedding(text, model=\"text-embedding-3-small\"):\n",
    "    response = openai.embeddings.create(\n",
    "        input=text,\n",
    "        model=model,\n",
    "    )\n",
    "\n",
    "    return response.data[0].embedding\n",
    "\n",
    "\n",
    "def retrieve_data(query, qdrant_client, k=5):\n",
    "\n",
    "    query_embedding = get_embedding(query)\n",
    "\n",
    "    results = qdrant_client.query_points(\n",
    "        collection_name=\"Amazon-items-collection-00\",\n",
    "        query=query_embedding,\n",
    "        limit=k,\n",
    "    )\n",
    "\n",
    "    retrieved_context_ids = []\n",
    "    retrieved_context = []\n",
    "    similarity_scores = []\n",
    "\n",
    "    for result in results.points:\n",
    "        retrieved_context_ids.append(result.payload[\"parent_asin\"])\n",
    "        retrieved_context.append(result.payload[\"description\"])\n",
    "        similarity_scores.append(result.score)\n",
    "\n",
    "    return {\n",
    "        \"retrieved_context_ids\": retrieved_context_ids,\n",
    "        \"retrieved_context\": retrieved_context,\n",
    "        \"similarity_scores\": similarity_scores,\n",
    "    }\n",
    "\n",
    "\n",
    "def process_context(context):\n",
    "\n",
    "    formatted_context = \"\"\n",
    "\n",
    "    for id, chunk in zip(context[\"retrieved_context_ids\"], context[\"retrieved_context\"]):\n",
    "        formatted_context += f\"- {id}: {chunk}\\n\"\n",
    "\n",
    "    return formatted_context\n",
    "\n",
    "\n",
    "def build_prompt(preprocessed_context, question):\n",
    "\n",
    "    prompt = f\"\"\"\n",
    "You are a shopping assistant that can answer questions about the products in stock.\n",
    "\n",
    "You will be given a question and a list of context.\n",
    "\n",
    "Instructtions:\n",
    "- You need to answer the question based on the provided context only.\n",
    "- Never use word context and refer to it as the available products.\n",
    "\n",
    "Context:\n",
    "{preprocessed_context}\n",
    "\n",
    "Question:\n",
    "{question}\n",
    "\"\"\"\n",
    "\n",
    "    return prompt\n",
    "\n",
    "def generate_answer(prompt):\n",
    "\n",
    "    response = openai.chat.completions.create(\n",
    "        model=\"gpt-4.1-mini\",\n",
    "        messages=[{\"role\": \"system\", \"content\": prompt}],\n",
    "        temperature=0.5,\n",
    "    )\n",
    "\n",
    "    return response.choices[0].message.content\n",
    "\n",
    "\n",
    "def rag_pipeline(question, qdrant_client, top_k=5):\n",
    "\n",
    "    retrieved_context = retrieve_data(question, qdrant_client, top_k)\n",
    "    preprocessed_context = process_context(retrieved_context)\n",
    "    prompt = build_prompt(preprocessed_context, question)\n",
    "    answer = generate_answer(prompt)\n",
    "\n",
    "    final_result = {\n",
    "        \"answer\": answer,\n",
    "        \"question\": question,\n",
    "        \"retrieved_context_ids\": retrieved_context[\"retrieved_context_ids\"],\n",
    "        \"retrieved_context\": retrieved_context[\"retrieved_context\"],\n",
    "        \"similarity_scores\": retrieved_context[\"similarity_scores\"]\n",
    "    }\n",
    "\n",
    "    return final_result"
   ]
  },
  {
   "cell_type": "code",
   "execution_count": 12,
   "id": "3001aa30",
   "metadata": {},
   "outputs": [
    {
     "data": {
      "text/plain": [
       "{'answer': 'Yes, there are several chargers available:\\n\\n1. iPhone Charger Cord Lightning Cables (3-pack, 3ft) - Apple MFi Certified, compatible with many iPhone and iPad models. (B0BYYLJRHT)\\n\\n2. 5 in 1 USB C to Multi Charging Cable (10ft) - Apple MFi Certified, includes Lightning, Type C, and Micro USB connectors for charging multiple devices simultaneously. (B0BFPZGYLD)\\n\\n3. MUXA 6 Pack iPhone Charger Colorful Nylon Lightning Cable - Apple MFi Certified, various lengths (3/3/6/6/10/10 ft), compatible with many iPhone and iPad models. (B09TNXY54Y)\\n\\n4. GREPHONE 2 Pack USB C to Lightning Cable (6ft) - Apple MFi Certified, supports fast charging for iPhone and iPad. (B0BV6PWVCG)\\n\\n5. Mixblu Charger Cable Replacement for Fitbit Inspire 3 (2 Pack, 3.3ft) - specifically for Fitbit Inspire 3. (B0BGDQLZD2)\\n\\nPlease let me know if you want more details or a specific type of charger.',\n",
       " 'question': 'Can I get some charger?',\n",
       " 'retrieved_context_ids': ['B0BYYLJRHT',\n",
       "  'B0BFPZGYLD',\n",
       "  'B09TNXY54Y',\n",
       "  'B0BV6PWVCG',\n",
       "  'B0BGDQLZD2'],\n",
       " 'retrieved_context': ['iPhone Charger Cord Lightning Cables, Original 2022 Upgraded [3Pack 3ft] Apple MFi Certified USB A Charging Cable for iPhone 13 12 11 Mini Pro XR Xs Max X SE 8 7 6 Plus iPad iPod AirPods - Black Original Apple Cable - iPhone charging cable with a reinforced joint design that has passed 30,000+ times bending tests for extra protection and durability. Insulation and precisely layer-welded connectors, which make the cable more durable and sturdier than normal iPhone charger cables but also flexible and tangle-free. Instant Responses - No error message pops up. Real high-speed iPhone charging cable with stable and efficient current output, you can plug it into laptop computers and in-car charging adapter. Super Fast Charge - The iPhone Lightning cable build-in four-core high-quality copper wires and multiple safety protections overcharge/stable current/automatic switching/battery protection to promote maximum signal quality and strength. You can enjoy faster charging [3.0A] and safer high-speed data transferring [480Mbps]. Apple MFi Certified - Lightning cable ensure 100% compatibility with iPhone 13, 13 Pro, 13 Pro Max, 13 Mini, 12, 12 Mini, 12 Pro, 12 Pro Max, SE 2020, iPhone 11, 11 Pro, 11 Pro Max, XR , Xs , Xs Max, X, 8, 8 plus, 7, 7 plus, 6s, 6s plus, 6, 6 plus, SE, 5s, 5, 5c, iPad Pro, iPad Air, iPad Air 2, iPad mini, mini 2, mini 3, mini 4, Mini 6, iPad 4, iPad 9, iPod Touch (5 Gen), iPod Nano 7. What You Get? - 3-foot long MFI apple certified iPhone charger cable 3 pack, if you have any questions, please feel free to contact us. Notice: Please make sure to make a purchase in the store! Otherwise, we will not be able to guarantee its authenticity, and we do not provide any after-sale services for other stores!',\n",
       "  '5 in 1 USB C to Multi Charging Cable 3M/10Ft, [Apple MFi Certified] USB A/USB C to Lightning+Type C+Micro USB Connector, Multi Charger Cable for Android/iPhone/Apple/Samsung/Huawei/LG (Not for i Pad) 【1 Cable = 6 Cables】The multi charging cable includes 2-in-1 USB A to USB C PD port, and 3 charging connecters: lightning / Type C / Micro USB, providing you with 6 different charging needs. 1 cable can charge three devices at the same time. Charging speed: Lightning: 2.4A, Micro USB: 2A,Type C: 6A. Please NOTE: *Multi USB charging cable is just for charging not for sync data. *USB C port does NOT work with i-Pads, tablets, and larger power-requirement devices. (Because not support PD function) 【Universal and Multifunctiona: Lightning, USB C, Micro USB】The lightning/iOS port compatible with iPhone 14/14 Pro/14 Pro Max/14 Plus/13/13 Pro Max/12/12Pro/iPhone 11/11Pro/XS /XS Max/XR/8/8 Plus 7/7 Plus. The USB C port supports to the Galaxy S10, Note 8, Nexus, LG, Pixel, HTC, OnePlus, Huawei, XiaoMi. The Micro USB port compatible with Samsung Galaxy S7/S6/S4 most Android phones, also compatible with Kindle, Bluetooth headset, external batteries, PS4 controllers and more. 【MFi Certified】The 3M universal multi charging cable contains an authorized chip to ensure 100% compatibility with iPhone without error message popping up. 3M USB C multi fast charging cable has a built-in terminal and smart chip to ensure your device is safely charged. 【Excellent & Durable Design】5 in 1 multiple charger cable length is 10FT, which is the most popular cable length. Multifunctional and easy to carry. When you have 2 or more mobile phones, just carry a multi-purpose cable to meet the needs of all charging devices. The 6-in-1 universal charging cable is made of high-quality smooth nylon to better protect the core. In addition, the use of high-quality heat-resistant aluminum alloy terminals increases reliability and durability. 【Best Service】For the 3M/10Ft multi 5 in 1 USB universal iPhone charging cable, we provide the 24 hours email support, 30-day free return and exchange service, and 1 years of after-sales warranty.If you have any questions about your product, please contact us, we will reply as soon as possible.',\n",
       "  \"MUXA 6 Pack [Apple MFi Certified] 3/3/6/6/10/10 FT iPhone Charger Colorful Nylon Lightning Cable Compatible iPhone 13 mini/13/12/11 Pro Max/XS MAX/XR/XS/X/8/7/Plus/6S/6/SE/5S/iPad ♦Perfectly Compatibility♦ : Work with iPhone 13 12 11, 13 12 11 Pro, 13 12 11 Pro Max,13 12 Mini, XS Max, XS, XR, X, 8 Plus, 8, 7 Plus, 7, 6S Plus, 6S, 6 Plus, 6, 5S, 5C, 5, iPad iPod . ♦Multiple Enjoyment♦ : Precise interface design, Fits enoughly to your charging port, no need to remove the phone case, solve tedious troubles, and charge when you want to charge all the time.Cables long enough to be convenient to charge your device in bedroom, sofa, office, travel，even when you are on the backseat of the car. ♦MFi Certified iPhone Charger♦ : MFI Certified Lightning Cable, Built with terminal and smart chip, ensured safe charging for your devices and Enjoy fast charge and data transfer. ♦Strengthened Durability♦ : It will be more durable than iPhone cable you have ever seen. It has a service life of 12 times longer than other cables, and has been proven to withstand 12,000 cycles + bending in rigorous laboratory tests. ♦Sweet Service♦ : If you have any questions about the product, please don't hesitate to contact us immediately and we will answer you within 24 hours.\",\n",
       "  'GREPHONE 2 Pack USB C to Lightning Cable,6 FT MFi Certified Extra Long iPhone Charger Cord,6 Foot USB Type C to Lightning Fast Cable Compatible with 13/12/11/11Pro/11Max/ X/XS/XR/XS Max/8/7/6/SE/iPad 【Super charging】Really iphone fast charger,our charging cable, 30 minutes to restore 60% of the phone\\'s power superior iPhone connector ensure superior data transfer with fast and stable charging. 【Perfect 6ft and quality】Wfith the 6foot length, you can lie on the couch or sofa and use your devices while you are charging at the same time. Special reinforced material, the wire has been tested many times to be softer and tougher to provide additional protection and durability. The 3D aluminum joint and the exclusive laser welding technology ensure that it will not break and the connection will be tighter. It can fit well even on the mobile phone protective shell and never loosen. 【Compatibility List】:USB-C to lightning cable supports PD Fast Charge 3A/30W (max) for iPad 8th iPad 2020, iPhone 13/13 Mini/13 Pro/13 Pro Max/12/12 Mini/12 Pro/12 Pro Max/11/11 Pro/11 Pro Max/XS Max/XS/XR/X/8 Plus/8 and iPad Pro 12.9\" gen1/iPad Pro 12.9\" gen2/iPad Pro 10.5\"/iPad Air3 10.5\"/iPad mini5 7.9\"; This cable also supports the standard charge (5V/2.4A max) for iPhone 7 Plus/7/6 Plus/6/6S Plus/6S etc. Note: You need a USB-C port wall charger to achieve fast charging. 【Apple MFi Certified Lightning Cable】 With the Apple MFi Chip, the USB-C to lightning cable cord equips automatic chip recognition function.They adopt the latest and faster charging C94 lightning terminal design,and built-in overvoltage protection ensure your Apple devices are charged safely, at their fastest possible speed. The Apple MFi Certification ensures 100% flawless. 【100% satisfactory service】You will get 2 packs of 6ft usb c to lightning cables and we will render a 12-month service to you as promised ensure your pleasing shopping experience. If you have any questions, please feel free to contact us. Our service team will provide you with a satisfactory solution within 24 hours.',\n",
       "  'Mixblu Charger Cable Replacement for Fitbit Inspire 3 (2 Pack/3.3Ft) Mixblu replacement charging cables are specially designed for Inspire 3 only. Passed thousands of qualified tests, it can provide a fast charging speed and stable charging status. Made of ABS plastic and TPE cable, lightweight, stable and durable, giving you a good charging experience. 3.3ft long charging cord provides you convenient use and the flexibility you need. 2 Pack tested charging cables for Inspire 3.'],\n",
       " 'similarity_scores': [0.42315903,\n",
       "  0.36354506,\n",
       "  0.36086273,\n",
       "  0.3568701,\n",
       "  0.3472972]}"
      ]
     },
     "execution_count": 12,
     "metadata": {},
     "output_type": "execute_result"
    }
   ],
   "source": [
    "rag_pipeline(\"Can I get some charger?\", qdrant_client, top_k=5)"
   ]
  },
  {
   "cell_type": "markdown",
   "id": "073a4dc6",
   "metadata": {},
   "source": [
    "### RAGAS metrics"
   ]
  },
  {
   "cell_type": "code",
   "execution_count": 22,
   "id": "ec3359cd",
   "metadata": {},
   "outputs": [
    {
     "ename": "ImportError",
     "evalue": "cannot import name 'IDBasedContextPrecision' from 'ragas.metrics' (/Users/reedallred/code/ai_bootcamp/.venv/lib/python3.12/site-packages/ragas/metrics/__init__.py)",
     "output_type": "error",
     "traceback": [
      "\u001b[31m---------------------------------------------------------------------------\u001b[39m",
      "\u001b[31mImportError\u001b[39m                               Traceback (most recent call last)",
      "\u001b[36mCell\u001b[39m\u001b[36m \u001b[39m\u001b[32mIn[22]\u001b[39m\u001b[32m, line 2\u001b[39m\n\u001b[32m      1\u001b[39m \u001b[38;5;28;01mfrom\u001b[39;00m\u001b[38;5;250m \u001b[39m\u001b[34;01mragas\u001b[39;00m\u001b[34;01m.\u001b[39;00m\u001b[34;01mdataset_schema\u001b[39;00m\u001b[38;5;250m \u001b[39m\u001b[38;5;28;01mimport\u001b[39;00m SingleTurnSample \n\u001b[32m----> \u001b[39m\u001b[32m2\u001b[39m \u001b[38;5;28;01mfrom\u001b[39;00m\u001b[38;5;250m \u001b[39m\u001b[34;01mragas\u001b[39;00m\u001b[34;01m.\u001b[39;00m\u001b[34;01mmetrics\u001b[39;00m\u001b[38;5;250m \u001b[39m\u001b[38;5;28;01mimport\u001b[39;00m IDBasedContextPrecision, IDBasedContextRecall, Faithfulness, ResponseRelevancy\n\u001b[32m      4\u001b[39m ragas_llm = LangchainLLMWrapper(ChatOpenAI(model=\u001b[33m\"\u001b[39m\u001b[33mgpt-4.1-mini\u001b[39m\u001b[33m\"\u001b[39m))\n\u001b[32m      5\u001b[39m ragas_embeddings = LangchainEmbeddingsWrapper(OpenAIEmbeddings(model=\u001b[33m\"\u001b[39m\u001b[33mtext-embedding-3-small\u001b[39m\u001b[33m\"\u001b[39m))\n",
      "\u001b[31mImportError\u001b[39m: cannot import name 'IDBasedContextPrecision' from 'ragas.metrics' (/Users/reedallred/code/ai_bootcamp/.venv/lib/python3.12/site-packages/ragas/metrics/__init__.py)"
     ]
    }
   ],
   "source": [
    "from ragas.dataset_schema import SingleTurnSample \n",
    "from ragas.metrics import IDBasedContextPrecision, IDBasedContextRecall, Faithfulness, ResponseRelevancy\n",
    "\n",
    "ragas_llm = LangchainLLMWrapper(ChatOpenAI(model=\"gpt-4.1-mini\"))\n",
    "ragas_embeddings = LangchainEmbeddingsWrapper(OpenAIEmbeddings(model=\"text-embedding-3-small\"))"
   ]
  },
  {
   "cell_type": "code",
   "execution_count": 15,
   "id": "b90a2514",
   "metadata": {},
   "outputs": [
    {
     "data": {
      "text/plain": [
       "{'question': 'Are there any gaming consoles or game controllers available?'}"
      ]
     },
     "execution_count": 15,
     "metadata": {},
     "output_type": "execute_result"
    }
   ],
   "source": [
    "reference_input"
   ]
  },
  {
   "cell_type": "code",
   "execution_count": 16,
   "id": "6799e806",
   "metadata": {},
   "outputs": [
    {
     "data": {
      "text/plain": [
       "{'ground_truth': 'Currently, we do not have any consoles or game controllers in stock.',\n",
       " 'reference_context_ids': [],\n",
       " 'reference_descriptions': []}"
      ]
     },
     "execution_count": 16,
     "metadata": {},
     "output_type": "execute_result"
    }
   ],
   "source": [
    "reference_output"
   ]
  },
  {
   "cell_type": "code",
   "execution_count": 17,
   "id": "8c4ecb8b",
   "metadata": {},
   "outputs": [],
   "source": [
    "result = rag_pipeline(reference_input[\"question\"], qdrant_client)"
   ]
  },
  {
   "cell_type": "code",
   "execution_count": 18,
   "id": "6cf549eb",
   "metadata": {},
   "outputs": [
    {
     "data": {
      "text/plain": [
       "{'answer': 'There are no gaming consoles or game controllers available in the listed products. However, there are gaming-related products such as the MSI MAG342CQM curved gaming monitor and the RUSAM GA33 A TWS game earbuds.',\n",
       " 'question': 'Are there any gaming consoles or game controllers available?',\n",
       " 'retrieved_context_ids': ['B09PYFMTBF',\n",
       "  'B0BY2ZBRZD',\n",
       "  'B0CF1WM24K',\n",
       "  'B09WCFC5D9',\n",
       "  'B09Y39DSWR'],\n",
       " 'retrieved_context': ['Wireless Keyboard and Mouse Combo, 2.4G Retro Computer Keyboard Mouse with Round Keys, Slim Quiet Keyboard Mouse with 2 in 1 Nano USB Receiver for for Windows, Laptop, PC, Notebook-Black Grey TRUE WIRELESS & PLUG AND PLAY: This wireless keyboard mouse set can keep you from the mess of the various cables on the desktop. The keyboard needs 2 AAA batteries and the mouse needs 1 AA battery. Just plug the receiver into the USB port and it quickly establishes a solid (up to 10m) connection with your computer SILENT CLICK & RETRO ROUND KEYCAP: Silent clicking and typing allows you to focus more on your work without disturbing others. Perfect for office, school, and home use. Retro wireless keyboard with round keys featuring scissor switches that will bounce back quickly and are more suitable for typing habits PERFECT SIZE & ULTRA SLIM: This compact and ultra slim keyboard with low profile can make it easier to store and move. The touch on the keyboard is so light and requires little strength to use. Fashion and fresh appearance can bring a happy mood AUTO SLEEP MODE & ERGONOMIC TILT: Because it is a wireless combo, it will automatically enter into sleep mode in order to save power and press any key to wake it up. With ergonomic tilt, you can use it more comfortably and will not feel fatigued and painful after typing for a while. It is recommended that turn off the keyboard if you do not use it for a long time SHORTCUTS AND COMPATIBILITY: The full size keyboard includes fast-access hot keys, versatile function keys and number pad which can improve you work efficiency. Compatible with Computer, Laptop, Desktop, PC, Notebook, Windows XP / Vista / 7 / 8 / 10 or later. 【100% satisfaction and 12-month warranty】',\n",
       "  'MSI MAG342CQM 1500R Curvature 21:9 Aspect Ratio Narrow Bezel 1ms 3440 x 1440 (UWQHD) 144Hz Refresh Rate Tilt/Swivel/Height/Pivot Adjustment 34\" AMD Freesync Gaming Curved Monitor, Black 34\" LCD panel LED backlight (34400 x 1440 UWQHD).Specific uses for product - Gaming 100Hz refresh rate - Display without after image. 1ms response time helps eliminate screen tearing and choppy frame rates Wide view angle - 178° visible. Adaptive sync - keep screen tearing away from your monitor.',\n",
       "  \"Wireless CarPlay Adapter for Factory Wired CarPlay, Wireless Dongle for CarPlay Cars from 2017 and iPhone iOS 12+, Plug & Play, Online Update (White) 🚗 【Carplay Wireless Adapter】2023 innovative wireless carplay adapter converts your car to wireless, you don’t need to replace existing head or reconfigure the center console. With the wireless dongle, it can keep the default car control features, such as navigation, music playing, Siri assistant, phone calls, etc. 🚗 【Plug & Play Easy to Use】Connect wireless carplay adapter to your car’s USB port that powers wired carplay, these devices leverage the WiFi and Bluetooth on your iPhone and serves as a receiver for your car. When you enter and turn on your vehicle, the carplay adapter will auto connect to your iPhone after the first time connection succeeded, even if your phone is in your pocket or backpack. 🚗 【Universal Compatibility for Cars】Our carplay wireless adapter works with all cars that have factory-installed CarPlay system. It comes with 2 cables( USB-C to USB-C, USB-C to USB ) fit for different car center consoles. Wireless connection supports iPhone IOS 12 version and newer that are capable of running carplay. 🚗 【Stable and Uninterrupted CarPlay Experience 】 Wireless carplay dongle that allows you to use CarPlay feature in your car without needing to plug in your iPhone, provide great reliability, a solid and uninterrupted connection every time. You can access most of your iPhone's features and apps, such as phone calls, texts, music, and more, from the touchscreen display in your car wirelessly. 🚗 【Tips You Should Know】Be sure that your car has factory-installed CarPlay, this model doesn’t support Android Phones. Package includes: 1 x Wireless CarPlay Adapter, 1 x USB-C to USB Cable, 1 x USB-C to USB-C. We provide 24H*7D service, please feel free to contact us if there any problems/questions.\",\n",
       "  \"RUSAM GA33 A Enhanced Edition TWS Game Earbuds True Wireless Stereo Headset Low Latency Bluetooth 5.2 Headphones Wireless Deep Bass Touch Control Earbuds HD Physical Noise Cancellation Earphones,White 【Advanced Bluetooth 5.2 Technology】RUSAM GA33 A built-in Bluetooth 5.2 chip,stable connection within 10 meters, Even if you cover your ears with your hands, you won't be disconnected,smooth like a wired headset. 【Game/Music Mode】The game/music mode can be switched by key operation to meet the needs of different usage scenarios.In music mode,13mm Dual Coil Dynamic Drivers，strong bass effect,heavy and low frequency all around the ear, shock more penetrating. 【Low Latency Game Mode】45ms low latency,there is a sound effect adjustment function in the game mode,and the subtle sound can also be captured to clearly distinguish the enemy's position. 【Long battery life】Built-in 40MAH battery in the headset, 400MAH battery in the charging box, can listen to music continuously for 3-4 hours, and the charging box can be charged 4-5 times,and the play time or music time can be up to 14 hours with the charging compartment. 【Cool appearance】Cool design,supplemented by various RGB lights,beautiful colors.In the Enhanced Edition,the earphones and charging box have increased surface treatment, more delicate touch, and more enhanced details.\",\n",
       "  \"[2Pack] NS-RCFNA-21 Remote Cover for Toshiba and Insignia CT-RC1US-21 CT95018 FireTV Alexa Voice Control, Silicone Remote Case for TV Omni Series and 4-Series 4K UHD Smart TV Remote Glow in Dark 【100% Fits】★ Remote Cover Replacement Specially Designed Compatible with Toshiba and Insignia FireTV NS-RCFNA-21 NSRCFNA21 CT-RC1US-21 CT95018 CTRC1US21 Remote Contorl; FireTV Omni Series or FireTV 4-Series smart TV Alexa Voice Remote Contorl ( ❤Tips: Pls compare with your Remote model fit or not before purchase! ) 【Full Body Protection】★ High-quality and eco-friendly silicone material, harmless to your pets, kids and families. Prevent the child from opening the back cover and provides the maximum protection, anti-slip, anti-dust, shock proof and washable. 【Custom Cutting】★ Accurate hole wide open offers full access to all ports, buttons and functions. Humanized texture design protects your remote from slipping and skidding.Fast heat dissipation and anti-dust that no fingerprints leave. 【Easy to Find/Glowing】★ Equiped with 2 different colors per set. when you have multiple remotes mixed together, Ability to quickly identify, which saves you a lot of time. The glow green and glow blue which has Luminous colors glow in the dark, Let you find your remote control at night quickly. Don't worry losing your remote control anymore. 【Reliable After-sales service】★ You buy our TOLUOHU (3Pack) Toshiba & Insignia FireTV Remote Contorl Silicone Sleeve, you will get reliable customer service and trusted guarantee. Please feel free to contact us by email directly if you have any problems. we will solve it for you within 24 hours.\"],\n",
       " 'similarity_scores': [0.27794793,\n",
       "  0.2601236,\n",
       "  0.2503128,\n",
       "  0.24915442,\n",
       "  0.24416481]}"
      ]
     },
     "execution_count": 18,
     "metadata": {},
     "output_type": "execute_result"
    }
   ],
   "source": [
    "result"
   ]
  },
  {
   "cell_type": "code",
   "execution_count": 19,
   "id": "669a554b",
   "metadata": {},
   "outputs": [],
   "source": [
    "async def ragas_faithfulness(run, example):\n",
    "\n",
    "    sample = SingleTurnSample(\n",
    "            user_input=run[\"question\"],\n",
    "            response=run[\"answer\"],\n",
    "            retrieved_contexts=run[\"retrieved_context\"]\n",
    "        )\n",
    "    scorer = Faithfulness(llm=ragas_llm)\n",
    "\n",
    "    return await scorer.single_turn_ascore(sample)"
   ]
  },
  {
   "cell_type": "code",
   "execution_count": 20,
   "id": "aa8e711d",
   "metadata": {},
   "outputs": [
    {
     "ename": "NameError",
     "evalue": "name 'Faithfulness' is not defined",
     "output_type": "error",
     "traceback": [
      "\u001b[31m---------------------------------------------------------------------------\u001b[39m",
      "\u001b[31mNameError\u001b[39m                                 Traceback (most recent call last)",
      "\u001b[36mCell\u001b[39m\u001b[36m \u001b[39m\u001b[32mIn[20]\u001b[39m\u001b[32m, line 1\u001b[39m\n\u001b[32m----> \u001b[39m\u001b[32m1\u001b[39m \u001b[38;5;28;01mawait\u001b[39;00m ragas_faithfulness(result, \u001b[33m\"\u001b[39m\u001b[33m\"\u001b[39m)\n",
      "\u001b[36mCell\u001b[39m\u001b[36m \u001b[39m\u001b[32mIn[19]\u001b[39m\u001b[32m, line 8\u001b[39m, in \u001b[36mragas_faithfulness\u001b[39m\u001b[34m(run, example)\u001b[39m\n\u001b[32m      1\u001b[39m \u001b[38;5;28;01masync\u001b[39;00m \u001b[38;5;28;01mdef\u001b[39;00m\u001b[38;5;250m \u001b[39m\u001b[34mragas_faithfulness\u001b[39m(run, example):\n\u001b[32m      3\u001b[39m     sample = SingleTurnSample(\n\u001b[32m      4\u001b[39m             user_input=run[\u001b[33m\"\u001b[39m\u001b[33mquestion\u001b[39m\u001b[33m\"\u001b[39m],\n\u001b[32m      5\u001b[39m             response=run[\u001b[33m\"\u001b[39m\u001b[33manswer\u001b[39m\u001b[33m\"\u001b[39m],\n\u001b[32m      6\u001b[39m             retrieved_contexts=run[\u001b[33m\"\u001b[39m\u001b[33mretrieved_context\u001b[39m\u001b[33m\"\u001b[39m]\n\u001b[32m      7\u001b[39m         )\n\u001b[32m----> \u001b[39m\u001b[32m8\u001b[39m     scorer = \u001b[43mFaithfulness\u001b[49m(llm=ragas_llm)\n\u001b[32m     10\u001b[39m     \u001b[38;5;28;01mreturn\u001b[39;00m \u001b[38;5;28;01mawait\u001b[39;00m scorer.single_turn_ascore(sample)\n",
      "\u001b[31mNameError\u001b[39m: name 'Faithfulness' is not defined"
     ]
    }
   ],
   "source": [
    "await ragas_faithfulness(result, \"\")"
   ]
  },
  {
   "cell_type": "code",
   "execution_count": null,
   "id": "2c0993e9",
   "metadata": {},
   "outputs": [],
   "source": [
    "async def ragas_responce_relevancy(run, example):\n",
    "\n",
    "    sample = SingleTurnSample(\n",
    "            user_input=run[\"question\"],\n",
    "            response=run[\"answer\"],\n",
    "            retrieved_contexts=run[\"retrieved_context\"]\n",
    "        )\n",
    "    scorer = ResponseRelevancy(llm=ragas_llm, embeddings=ragas_embeddings)\n",
    "\n",
    "    return await scorer.single_turn_ascore(sample)"
   ]
  },
  {
   "cell_type": "code",
   "execution_count": null,
   "id": "d8180aaa",
   "metadata": {},
   "outputs": [],
   "source": [
    "await ragas_responce_relevancy(result, \"\")"
   ]
  },
  {
   "cell_type": "code",
   "execution_count": null,
   "id": "78583d3f",
   "metadata": {},
   "outputs": [],
   "source": [
    "async def ragas_context_precision_id_based(run, example):\n",
    "\n",
    "    sample = SingleTurnSample(\n",
    "            retrieved_context_ids=run[\"retrieved_context_ids\"],\n",
    "            reference_context_ids=example[\"reference_context_ids\"]\n",
    "        )\n",
    "    scorer = IDBasedContextPrecision()\n",
    "\n",
    "    return await scorer.single_turn_ascore(sample)"
   ]
  },
  {
   "cell_type": "code",
   "execution_count": null,
   "id": "0a55b621",
   "metadata": {},
   "outputs": [],
   "source": [
    "await ragas_context_precision_id_based(result, reference_output)"
   ]
  },
  {
   "cell_type": "code",
   "execution_count": null,
   "id": "33782478",
   "metadata": {},
   "outputs": [],
   "source": [
    "async def ragas_context_recall_id_based(run, example):\n",
    "\n",
    "    sample = SingleTurnSample(\n",
    "            retrieved_context_ids=run[\"retrieved_context_ids\"],\n",
    "            reference_context_ids=example[\"reference_context_ids\"]\n",
    "        )\n",
    "    scorer = IDBasedContextRecall()\n",
    "\n",
    "    return await scorer.single_turn_ascore(sample)"
   ]
  },
  {
   "cell_type": "code",
   "execution_count": null,
   "id": "8b696f0a",
   "metadata": {},
   "outputs": [],
   "source": [
    "await ragas_context_recall_id_based(result, reference_output)"
   ]
  },
  {
   "cell_type": "code",
   "execution_count": null,
   "id": "89ceed28",
   "metadata": {},
   "outputs": [],
   "source": []
  }
 ],
 "metadata": {
  "kernelspec": {
   "display_name": ".venv",
   "language": "python",
   "name": "python3"
  },
  "language_info": {
   "codemirror_mode": {
    "name": "ipython",
    "version": 3
   },
   "file_extension": ".py",
   "mimetype": "text/x-python",
   "name": "python",
   "nbconvert_exporter": "python",
   "pygments_lexer": "ipython3",
   "version": "3.12.7"
  }
 },
 "nbformat": 4,
 "nbformat_minor": 5
}
