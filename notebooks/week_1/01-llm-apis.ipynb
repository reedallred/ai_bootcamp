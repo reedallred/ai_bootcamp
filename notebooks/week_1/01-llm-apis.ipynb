{
 "cells": [
  {
   "cell_type": "markdown",
   "id": "0104f062",
   "metadata": {},
   "source": [
    "## OpenAI Client"
   ]
  },
  {
   "cell_type": "code",
   "execution_count": 21,
   "id": "b5f86aa6",
   "metadata": {},
   "outputs": [],
   "source": [
    "import os\n",
    "\n",
    "api_key = os.getenv(\"OPENAI_API_KEY\")\n",
    "if not api_key:\n",
    "    # Optionally promt the user\n",
    "    api_key = input(\"Enter your OpenAI API key: \").strip()\n",
    "    os.environ[\"OPENAI_API_KEY\"] = api_key\n",
    "    if not api_key:\n",
    "        raise EnvironmentError(\"No API key provided\")"
   ]
  },
  {
   "cell_type": "code",
   "execution_count": 22,
   "id": "d0774988",
   "metadata": {},
   "outputs": [
    {
     "name": "stdout",
     "output_type": "stream",
     "text": [
      "Sure! Here are 10 random words:\n",
      "\n",
      "1. Celestial\n",
      "2. Tranquil\n",
      "3. Quantum\n",
      "4. Mosaic\n",
      "5. Serendipity\n",
      "6. Ethereal\n",
      "7. Eloquent\n",
      "8. Labyrinth\n",
      "9. Luminescent\n",
      "10. Paradox\n"
     ]
    }
   ],
   "source": [
    "import openai\n",
    "\n",
    "response = openai.chat.completions.create(\n",
    "    model=\"gpt-4o-mini\",\n",
    "    messages=[\n",
    "        {\"role\": \"system\", \"content\": \"You are a helpful assistant.\"},\n",
    "        {\"role\": \"user\", \"content\": \"can you print 10 random words?\"}\n",
    "    ]\n",
    ")\n",
    "\n",
    "print(response.choices[0].message.content)"
   ]
  },
  {
   "cell_type": "markdown",
   "id": "76899220",
   "metadata": {},
   "source": [
    "## Google genai Client"
   ]
  },
  {
   "cell_type": "code",
   "execution_count": 32,
   "id": "9d6aff02",
   "metadata": {},
   "outputs": [],
   "source": [
    "api_key = os.getenv(\"GOOGLE_API_KEY\")\n",
    "if not api_key:\n",
    "    # Optionally prompt the user\n",
    "    api_key = input(\"Enter your Google API key: \").strip()\n",
    "    os.environ[\"GOOGLE_API_KEY\"] = api_key\n",
    "    if not api_key:\n",
    "        raise EnvironmentError(\"No API key provided.\")"
   ]
  },
  {
   "cell_type": "code",
   "execution_count": 34,
   "id": "dfe96c9a",
   "metadata": {},
   "outputs": [
    {
     "name": "stdout",
     "output_type": "stream",
     "text": [
      "Okay, here are 15 random words for you:\n",
      "\n",
      "1.  Serendipity\n",
      "2.  Effervescent\n",
      "3.  Quixotic\n",
      "4.  Ubiquitous\n",
      "5.  Ephemeral\n",
      "6.  Mellifluous\n",
      "7.  Zephyr\n",
      "8.  Labyrinth\n",
      "9.  Nebula\n",
      "10. Resplendent\n",
      "11. Petrichor\n",
      "12. Luminescence\n",
      "13. Silhouette\n",
      "14. Tranquility\n",
      "15. Idyllic\n",
      "\n"
     ]
    }
   ],
   "source": [
    "from google import genai\n",
    "\n",
    "gemini_client = genai.Client(api_key=os.getenv(\"GOOGLE_API_KEY\"))\n",
    "\n",
    "response = gemini_client.models.generate_content(\n",
    "    model=\"gemini-2.0-flash\",\n",
    "    contents=[\"You are a helpful assistant\",\n",
    "              \"can you print 15 random words?\"]\n",
    ")\n",
    "\n",
    "print(response.text)"
   ]
  },
  {
   "cell_type": "markdown",
   "id": "396f67c5",
   "metadata": {},
   "source": [
    "## Groq Client"
   ]
  },
  {
   "cell_type": "code",
   "execution_count": 35,
   "id": "b4809efa",
   "metadata": {},
   "outputs": [],
   "source": [
    "api_key = os.getenv(\"GROQ_API_KEY\")\n",
    "if not api_key:\n",
    "    # Optionally prompt the user\n",
    "    api_key = input(\"Enter your Groq API key: \").strip()\n",
    "    os.environ[\"GROQ_API_KEY\"] = api_key\n",
    "    if not api_key:\n",
    "        raise EnvironmentError(\"No API key provided.\")"
   ]
  },
  {
   "cell_type": "code",
   "execution_count": 36,
   "id": "e0ca7a01",
   "metadata": {},
   "outputs": [
    {
     "name": "stdout",
     "output_type": "stream",
     "text": [
      "Here are 20 random words:\n",
      "\n",
      "1. Space\n",
      "2. Diamond\n",
      "3. Caramel\n",
      "4. Basketball\n",
      "5. Perfume\n",
      "6. Guitar\n",
      "7. Snowflake\n",
      "8. Computer\n",
      "9. Butterfly\n",
      "10. Bicycle\n",
      "11. Pineapple\n",
      "12. Harmonica\n",
      "13. Laughter\n",
      "14. Starfish\n",
      "15. Banana\n",
      "16. Submarine\n",
      "17. Football\n",
      "18. Peacock\n",
      "19. Telescope\n",
      "20. Kitten\n"
     ]
    }
   ],
   "source": [
    "from groq import Groq\n",
    "\n",
    "client = Groq(\n",
    "    api_key=os.environ.get(\"GROQ_API_KEY\"),\n",
    ")\n",
    "\n",
    "chat_completion = client.chat.completions.create(\n",
    "    messages=[\n",
    "        {\"role\": \"system\", \"content\": \"You are a helpful assistant.\"},\n",
    "        {\"role\": \"user\", \"content\": \"can you print 20 random words?\"}\n",
    "    ],\n",
    "    model=\"llama-3.3-70b-versatile\",\n",
    ")\n",
    "\n",
    "print(chat_completion.choices[0].message.content)"
   ]
  }
 ],
 "metadata": {
  "kernelspec": {
   "display_name": ".venv",
   "language": "python",
   "name": "python3"
  },
  "language_info": {
   "codemirror_mode": {
    "name": "ipython",
    "version": 3
   },
   "file_extension": ".py",
   "mimetype": "text/x-python",
   "name": "python",
   "nbconvert_exporter": "python",
   "pygments_lexer": "ipython3",
   "version": "3.12.7"
  }
 },
 "nbformat": 4,
 "nbformat_minor": 5
}
